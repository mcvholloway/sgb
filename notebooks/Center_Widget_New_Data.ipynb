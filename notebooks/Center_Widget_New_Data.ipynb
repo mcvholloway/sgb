{
 "cells": [
  {
   "cell_type": "code",
   "execution_count": 1,
   "id": "befcbd93",
   "metadata": {},
   "outputs": [],
   "source": [
    "import pandas as pd\n",
    "import matplotlib.pyplot as plt\n",
    "import numpy as np\n",
    "from tqdm.notebook import tqdm\n",
    "\n",
    "from matplotlib.dates import DateFormatter\n",
    "dateformat = DateFormatter(fmt = '%H:%M:%S:%f')"
   ]
  },
  {
   "cell_type": "code",
   "execution_count": 2,
   "id": "c313dc83",
   "metadata": {},
   "outputs": [],
   "source": [
    "def import_training_data(patient_num):\n",
    "    \n",
    "    # First, get the labels\n",
    "    labels = pd.read_csv(f'../data/new_data/marked/labels/labels_{patient_num}.csv')\n",
    "    sgb = labels['labels'].tolist()\n",
    "        \n",
    "    # Then the raw data\n",
    "    readings = pd.read_csv(f'../data/new_data/eval_data/{patient_num} RAW 00.csv')\n",
    "    readings['Time'] = pd.to_datetime(readings['Time'])\n",
    "    readings['CapturedTime'] = readings['Time'].dt.time\n",
    "    \n",
    "    # Then remove the meal times\n",
    "    events = pd.read_csv(f'../data/new_data/eval_data/{patient_num} EVT 00.csv')\n",
    "    events = events[events['EventName'] == 'Meal']\n",
    "    events['Time'] = pd.to_datetime(events['Time'])\n",
    "    events['Duration'] = pd.to_timedelta(events['Duration'])\n",
    "    events = events.assign(End = events['Time'] + events['Duration'])\n",
    "    for idx, row in events.iterrows():\n",
    "        readings = readings[(readings['Time'] < row['Time']) | (readings['Time'] > row['End'])]\n",
    "    \n",
    "#     # There is a section for patient 008 at the end which is all maxed outs\n",
    "#     if patient_num == '008':\n",
    "#         readings = readings.loc[:837833]\n",
    "    \n",
    "#     # There is a missing segment of time for 009, so we need to repair the index\n",
    "#     if patient_num == '009':\n",
    "#         readings.index = [x + 4 if x >= 276 else x for x in readings.index]\n",
    "        \n",
    "#     # There is a section for patient 010 at the end which is all maxed outs\n",
    "#     if patient_num == '010':\n",
    "#         readings = readings.loc[:731110]\n",
    "    \n",
    "    return sgb, readings"
   ]
  },
  {
   "cell_type": "code",
   "execution_count": 3,
   "id": "c0f6ee61",
   "metadata": {},
   "outputs": [],
   "source": [
    "from ipywidgets import interact\n",
    "import ipywidgets"
   ]
  },
  {
   "cell_type": "code",
   "execution_count": 4,
   "id": "hispanic-advertiser",
   "metadata": {},
   "outputs": [],
   "source": [
    "# @interact(idx = ipywidgets.IntText(0),\n",
    "#          shift = ipywidgets.IntSlider(value = 0, min = -20, max = 50))\n",
    "def plot_event(idx, shift = 0):\n",
    "    \n",
    "    duration = 20\n",
    "    \n",
    "    idx = orig_index[idx]\n",
    "    \n",
    "    readings_sub = (\n",
    "        readings\n",
    "        .loc[idx - shift:idx - shift + duration - 1]\n",
    "        [['Channel_' + str(i) for i in range(1,7)]]\n",
    "        .values\n",
    "    )\n",
    "\n",
    "    fig, ax = plt.subplots(figsize = (12,6))\n",
    "\n",
    "    times = readings.loc[idx - shift:idx - shift + duration - 1, 'Time']\n",
    "\n",
    "    for i in range(6):\n",
    "        if i == 0:\n",
    "            color = 'blue'\n",
    "        else:\n",
    "            color = 'grey'\n",
    "        \n",
    "        plt.plot(times, readings_sub[:, i], label = 'Channel_' + str(i + 1), color = color)\n",
    "\n",
    "    ax.xaxis.set_major_formatter(dateformat)\n",
    "\n",
    "    plt.legend(bbox_to_anchor = (1, 0.5), loc = 'center left')\n",
    "    \n",
    "    xmin, xmax = plt.xlim()\n",
    "    midpoint = (xmin + xmax) / 2\n",
    "    \n",
    "    plt.ylim(-500, 10500)\n",
    "    \n",
    "    ymin, ymax = plt.ylim()\n",
    "    \n",
    "    plt.vlines(x = midpoint, ymin = ymin, ymax = ymax, color = 'grey', linestyle = '--')\n",
    "    \n",
    "#     if filepath:\n",
    "#         plt.tight_layout()\n",
    "#         plt.savefig(filepath, \n",
    "#                     dpi = 150, \n",
    "#                     transparent = False, \n",
    "#                     facecolor = 'white')\n",
    "        \n",
    "#         plt.close();"
   ]
  },
  {
   "cell_type": "code",
   "execution_count": 5,
   "id": "egyptian-sharp",
   "metadata": {},
   "outputs": [],
   "source": [
    "button = ipywidgets.Button(description=\"Save\")\n",
    "\n",
    "\n",
    "def save_start(b):\n",
    "    orig_idx = idx.value\n",
    "    orig_idx = orig_index[orig_idx]\n",
    "    \n",
    "    shift_amt = shift.value\n",
    "    \n",
    "    new_idx = orig_idx - shift_amt\n",
    "    \n",
    "    new_indices.append((idx.value,new_idx))\n",
    "\n",
    "button.on_click(save_start)\n",
    "\n",
    "undo_button = ipywidgets.Button(description=\"Undo Last Save\")\n",
    "\n",
    "def remove_last(b): \n",
    "    global new_indices\n",
    "    new_indices = new_indices[:-1]\n",
    "\n",
    "undo_button.on_click(remove_last)\n",
    "\n",
    "\n",
    "\n",
    "button_dc = ipywidgets.Button(description=\"Double Check\")\n",
    "\n",
    "def save_dc(b):\n",
    "    orig_idx = idx.value\n",
    "    orig_idx = orig_index[orig_idx]\n",
    "    \n",
    "    shift_amt = shift.value\n",
    "    \n",
    "    new_idx = orig_idx - shift_amt\n",
    "    \n",
    "    dc_indices.append((idx.value,new_idx))\n",
    "\n",
    "button_dc.on_click(save_dc)\n",
    "\n",
    "\n",
    "undo_dc = ipywidgets.Button(description=\"Undo Last DC\")\n",
    "\n",
    "def remove_last_dc(b): \n",
    "    global dc_indices\n",
    "    dc_indices = dc_indices[:-1]\n",
    "\n",
    "undo_dc.on_click(remove_last_dc)"
   ]
  },
  {
   "cell_type": "code",
   "execution_count": 22,
   "id": "processed-voluntary",
   "metadata": {},
   "outputs": [],
   "source": [
    "patient_num = '89'\n",
    "\n",
    "sgb, readings = import_training_data(patient_num)\n",
    "readings.loc[readings['CapturedTime'].astype(str).isin(sgb), 'sgb'] = True\n",
    "readings['sgb'] = readings['sgb'].fillna(False)\n",
    "orig_index = readings.loc[readings['sgb']].index.tolist()\n",
    "\n",
    "new_indices = []\n",
    "dc_indices = []"
   ]
  },
  {
   "cell_type": "code",
   "execution_count": 24,
   "id": "identical-premium",
   "metadata": {},
   "outputs": [],
   "source": [
    "idx = ipywidgets.IntText(0)\n",
    "shift = ipywidgets.IntSlider(value = 0, min = -40, max = 50)\n",
    "\n",
    "out = ipywidgets.interactive_output(plot_event, {'idx': idx, 'shift': shift})"
   ]
  },
  {
   "cell_type": "code",
   "execution_count": 25,
   "id": "fantastic-satellite",
   "metadata": {},
   "outputs": [
    {
     "data": {
      "text/plain": [
       "644"
      ]
     },
     "execution_count": 25,
     "metadata": {},
     "output_type": "execute_result"
    }
   ],
   "source": [
    "len(orig_index)"
   ]
  },
  {
   "cell_type": "code",
   "execution_count": 26,
   "id": "stupid-onion",
   "metadata": {},
   "outputs": [
    {
     "data": {
      "application/vnd.jupyter.widget-view+json": {
       "model_id": "8356fb9a73c04dec9e19751d33ec140d",
       "version_major": 2,
       "version_minor": 0
      },
      "text/plain": [
       "VBox(children=(IntText(value=0), IntSlider(value=0, max=50, min=-40), HBox(children=(Button(description='Save'…"
      ]
     },
     "metadata": {},
     "output_type": "display_data"
    }
   ],
   "source": [
    "ipywidgets.VBox([idx, \n",
    "                 shift, \n",
    "                 ipywidgets.HBox([button, undo_button]), \n",
    "                 ipywidgets.HBox([button_dc, undo_dc]), \n",
    "                 out])"
   ]
  },
  {
   "cell_type": "code",
   "execution_count": 32,
   "id": "still-patio",
   "metadata": {},
   "outputs": [
    {
     "data": {
      "text/plain": [
       "[(537, 703094), (538, 705520), (539, 705555)]"
      ]
     },
     "execution_count": 32,
     "metadata": {},
     "output_type": "execute_result"
    }
   ],
   "source": [
    "new_indices[-3:]"
   ]
  },
  {
   "cell_type": "code",
   "execution_count": 11,
   "id": "loose-allocation",
   "metadata": {},
   "outputs": [
    {
     "data": {
      "text/plain": [
       "[]"
      ]
     },
     "execution_count": 11,
     "metadata": {},
     "output_type": "execute_result"
    }
   ],
   "source": [
    "dc_indices[-3:]"
   ]
  },
  {
   "cell_type": "code",
   "execution_count": 34,
   "id": "hourly-fitting",
   "metadata": {},
   "outputs": [],
   "source": [
    "centered_df = pd.DataFrame(\n",
    "    {\n",
    "        'patient': patient_num,\n",
    "        'Time': readings.loc[[x[1] for x in new_indices]]['Time']\n",
    "    }\n",
    ")\n",
    "filepath = f'../data/new_data/centered/centered_{patient_num}.csv'\n",
    "centered_df.to_csv(filepath, index = False)\n",
    "\n",
    "\n",
    "dc_df = pd.DataFrame(\n",
    "    {\n",
    "        'patient': patient_num,\n",
    "        'Time': readings.loc[[x[1] for x in dc_indices]]['Time']\n",
    "    }\n",
    ")\n",
    "filepath = f'../data/new_data/double_check/dc_{patient_num}.csv'\n",
    "dc_df.to_csv(filepath, index = False)"
   ]
  },
  {
   "cell_type": "code",
   "execution_count": null,
   "id": "lovely-feeding",
   "metadata": {},
   "outputs": [],
   "source": []
  }
 ],
 "metadata": {
  "kernelspec": {
   "display_name": "Python 3",
   "language": "python",
   "name": "python3"
  },
  "language_info": {
   "codemirror_mode": {
    "name": "ipython",
    "version": 3
   },
   "file_extension": ".py",
   "mimetype": "text/x-python",
   "name": "python",
   "nbconvert_exporter": "python",
   "pygments_lexer": "ipython3",
   "version": "3.7.9"
  }
 },
 "nbformat": 4,
 "nbformat_minor": 5
}
