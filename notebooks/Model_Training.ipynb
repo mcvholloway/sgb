{
 "cells": [
  {
   "cell_type": "code",
   "execution_count": 1,
   "id": "befcbd93",
   "metadata": {},
   "outputs": [
    {
     "name": "stderr",
     "output_type": "stream",
     "text": [
      "/home/michael/anaconda3/envs/keras/lib/python3.7/site-packages/tensorflow/python/framework/dtypes.py:516: FutureWarning: Passing (type, 1) or '1type' as a synonym of type is deprecated; in a future version of numpy, it will be understood as (type, (1,)) / '(1,)type'.\n",
      "  _np_qint8 = np.dtype([(\"qint8\", np.int8, 1)])\n",
      "/home/michael/anaconda3/envs/keras/lib/python3.7/site-packages/tensorflow/python/framework/dtypes.py:517: FutureWarning: Passing (type, 1) or '1type' as a synonym of type is deprecated; in a future version of numpy, it will be understood as (type, (1,)) / '(1,)type'.\n",
      "  _np_quint8 = np.dtype([(\"quint8\", np.uint8, 1)])\n",
      "/home/michael/anaconda3/envs/keras/lib/python3.7/site-packages/tensorflow/python/framework/dtypes.py:518: FutureWarning: Passing (type, 1) or '1type' as a synonym of type is deprecated; in a future version of numpy, it will be understood as (type, (1,)) / '(1,)type'.\n",
      "  _np_qint16 = np.dtype([(\"qint16\", np.int16, 1)])\n",
      "/home/michael/anaconda3/envs/keras/lib/python3.7/site-packages/tensorflow/python/framework/dtypes.py:519: FutureWarning: Passing (type, 1) or '1type' as a synonym of type is deprecated; in a future version of numpy, it will be understood as (type, (1,)) / '(1,)type'.\n",
      "  _np_quint16 = np.dtype([(\"quint16\", np.uint16, 1)])\n",
      "/home/michael/anaconda3/envs/keras/lib/python3.7/site-packages/tensorflow/python/framework/dtypes.py:520: FutureWarning: Passing (type, 1) or '1type' as a synonym of type is deprecated; in a future version of numpy, it will be understood as (type, (1,)) / '(1,)type'.\n",
      "  _np_qint32 = np.dtype([(\"qint32\", np.int32, 1)])\n",
      "/home/michael/anaconda3/envs/keras/lib/python3.7/site-packages/tensorflow/python/framework/dtypes.py:525: FutureWarning: Passing (type, 1) or '1type' as a synonym of type is deprecated; in a future version of numpy, it will be understood as (type, (1,)) / '(1,)type'.\n",
      "  np_resource = np.dtype([(\"resource\", np.ubyte, 1)])\n",
      "/home/michael/anaconda3/envs/keras/lib/python3.7/site-packages/tensorboard/compat/tensorflow_stub/dtypes.py:541: FutureWarning: Passing (type, 1) or '1type' as a synonym of type is deprecated; in a future version of numpy, it will be understood as (type, (1,)) / '(1,)type'.\n",
      "  _np_qint8 = np.dtype([(\"qint8\", np.int8, 1)])\n",
      "/home/michael/anaconda3/envs/keras/lib/python3.7/site-packages/tensorboard/compat/tensorflow_stub/dtypes.py:542: FutureWarning: Passing (type, 1) or '1type' as a synonym of type is deprecated; in a future version of numpy, it will be understood as (type, (1,)) / '(1,)type'.\n",
      "  _np_quint8 = np.dtype([(\"quint8\", np.uint8, 1)])\n",
      "/home/michael/anaconda3/envs/keras/lib/python3.7/site-packages/tensorboard/compat/tensorflow_stub/dtypes.py:543: FutureWarning: Passing (type, 1) or '1type' as a synonym of type is deprecated; in a future version of numpy, it will be understood as (type, (1,)) / '(1,)type'.\n",
      "  _np_qint16 = np.dtype([(\"qint16\", np.int16, 1)])\n",
      "/home/michael/anaconda3/envs/keras/lib/python3.7/site-packages/tensorboard/compat/tensorflow_stub/dtypes.py:544: FutureWarning: Passing (type, 1) or '1type' as a synonym of type is deprecated; in a future version of numpy, it will be understood as (type, (1,)) / '(1,)type'.\n",
      "  _np_quint16 = np.dtype([(\"quint16\", np.uint16, 1)])\n",
      "/home/michael/anaconda3/envs/keras/lib/python3.7/site-packages/tensorboard/compat/tensorflow_stub/dtypes.py:545: FutureWarning: Passing (type, 1) or '1type' as a synonym of type is deprecated; in a future version of numpy, it will be understood as (type, (1,)) / '(1,)type'.\n",
      "  _np_qint32 = np.dtype([(\"qint32\", np.int32, 1)])\n",
      "/home/michael/anaconda3/envs/keras/lib/python3.7/site-packages/tensorboard/compat/tensorflow_stub/dtypes.py:550: FutureWarning: Passing (type, 1) or '1type' as a synonym of type is deprecated; in a future version of numpy, it will be understood as (type, (1,)) / '(1,)type'.\n",
      "  np_resource = np.dtype([(\"resource\", np.ubyte, 1)])\n"
     ]
    }
   ],
   "source": [
    "import pandas as pd\n",
    "import matplotlib.pyplot as plt\n",
    "import numpy as np\n",
    "from tqdm.notebook import tqdm\n",
    "from imblearn.over_sampling import RandomOverSampler\n",
    "\n",
    "import tensorflow as tf\n",
    "from tensorflow.keras import datasets, layers, models\n",
    "from sklearn.model_selection import train_test_split\n",
    "from sklearn.metrics import accuracy_score, classification_report, roc_auc_score, confusion_matrix, roc_curve\n",
    "\n",
    "from matplotlib.dates import DateFormatter\n",
    "dateformat = DateFormatter(fmt = '%H:%M:%S:%f')"
   ]
  },
  {
   "cell_type": "code",
   "execution_count": 2,
   "id": "c313dc83",
   "metadata": {},
   "outputs": [],
   "source": [
    "def import_data(patient_num):\n",
    "\n",
    "    # First, get the labels\n",
    "    labels = pd.read_csv(f'../data/centered/original/centered_{patient_num}.csv')\n",
    "\n",
    "    others = pd.read_csv(f'../data/centered/reviewed/dc_{patient_num}.csv')\n",
    "    others['Review'] = others['Review'].str.strip()\n",
    "    others = others[others['Review'] == 'Yes']\n",
    "\n",
    "    sgb_times = pd.concat([labels[['Time']], others[['Time']]])\n",
    "    sgb_times['Time'] = pd.to_datetime(sgb_times['Time'])\n",
    "    sgb_times['sgb'] = True\n",
    "\n",
    "    # Then the raw data\n",
    "    readings = pd.read_csv(f'../data/Completed file set Oct13/{patient_num} RAW 00.csv')\n",
    "    readings['Time'] = pd.to_datetime(readings['Time'])\n",
    "    readings['CapturedTime'] = readings['Time'].dt.time\n",
    "\n",
    "    # Combine them to label the events times\n",
    "    readings = pd.merge(left = readings,\n",
    "             right = sgb_times[['Time', 'sgb']],\n",
    "            how = 'outer').fillna('False')\n",
    "    \n",
    "    # Then remove the meal times\n",
    "    events = pd.read_csv(f'../data/Completed file set Oct13/{patient_num} EVT 00.csv')\n",
    "    events = events[events['EventName'] == 'Meal']\n",
    "    events['Time'] = pd.to_datetime(events['Time'])\n",
    "    events['Duration'] = pd.to_timedelta(events['Duration'])\n",
    "    events = events.assign(End = events['Time'] + events['Duration'])\n",
    "    for idx, row in events.iterrows():\n",
    "        readings = readings[(readings['Time'] < row['Time']) | (readings['Time'] > row['End'])]\n",
    "        \n",
    "    # Normalize the readings to be between 0 and 1\n",
    "    for channel in [\n",
    "        'Channel_1', 'Channel_2', 'Channel_3',\n",
    "        'Channel_4', 'Channel_5', 'Channel_6'\n",
    "    ]:\n",
    "        readings[channel] = readings[channel] / 10000\n",
    "    \n",
    "    # There is a section for patient 008 at the end which is all maxed outs\n",
    "    if patient_num == '008':\n",
    "        readings = readings.loc[:837833]\n",
    "    \n",
    "    # There is a missing segment of time for 009, so we need to repair the index\n",
    "    if patient_num == '009':\n",
    "        readings.index = [x + 4 if x >= 276 else x for x in readings.index]\n",
    "        \n",
    "    # There is a section for patient 010 at the end which is all maxed outs\n",
    "    if patient_num == '010':\n",
    "        readings = readings.loc[:731110]\n",
    "    \n",
    "    return readings"
   ]
  },
  {
   "cell_type": "code",
   "execution_count": 3,
   "id": "chief-greensboro",
   "metadata": {},
   "outputs": [],
   "source": [
    "def prepare_training(patient_num):\n",
    "    readings = import_data(patient_num)\n",
    "    \n",
    "    readings.loc[readings['sgb'] == True, 'next_sgb'] = readings.loc[readings['sgb'] == True, 'Time']\n",
    "    readings['next_sgb'] = readings['next_sgb'].bfill()\n",
    "    readings.loc[readings['sgb'] == True, 'last_sgb'] = readings.loc[readings['sgb'] == True, 'Time']\n",
    "    readings['last_sgb'] = readings['last_sgb'].ffill()\n",
    "\n",
    "    readings['next_sgb'] = (readings['next_sgb'] - readings['Time']).dt.total_seconds()\n",
    "    readings['last_sgb'] = (readings['Time'] - readings['last_sgb']).dt.total_seconds()\n",
    "\n",
    "    potential_training_index = readings[~(readings['next_sgb'] < 2) & ~(readings['last_sgb'] < 2)].index\n",
    "\n",
    "    nonsgb = [x for x in potential_training_index if x%10 == 0]\n",
    "    sgb = readings[readings['sgb'] == True].index.tolist()\n",
    "    \n",
    "    keeps = 0\n",
    "    \n",
    "    for idx in tqdm(nonsgb):\n",
    "        offset = 0\n",
    "        duration = 20\n",
    "\n",
    "        idx = idx - offset\n",
    "\n",
    "        readings_sub = readings.loc[idx:idx + duration - 1][['Channel_' + str(j) for j in range(1,7)]].values\n",
    "        if readings_sub.shape == (duration, 6) and np.abs(np.diff(readings_sub, axis = 0)).sum() > 1:\n",
    "            X_train.append(readings_sub)\n",
    "            y_train.append(0)\n",
    "            train_indices.append(idx)\n",
    "            keeps += 1\n",
    "            \n",
    "    print(keeps)\n",
    "\n",
    "    for idx in tqdm(sgb * 10):\n",
    "        offset = 0\n",
    "        duration = 20\n",
    "\n",
    "        idx = idx - offset\n",
    "\n",
    "        readings_sub = readings.loc[idx:idx + duration - 1][['Channel_' + str(j) for j in range(1,7)]].values\n",
    "        if readings_sub.shape == (duration, 6):\n",
    "            X_train.append(readings_sub)\n",
    "            y_train.append(1)\n",
    "            train_indices.append(idx)"
   ]
  },
  {
   "cell_type": "code",
   "execution_count": 4,
   "id": "foreign-horizontal",
   "metadata": {},
   "outputs": [
    {
     "data": {
      "application/vnd.jupyter.widget-view+json": {
       "model_id": "770c1448c47e4857a9fe9557d0de0ea3",
       "version_major": 2,
       "version_minor": 0
      },
      "text/plain": [
       "  0%|          | 0/77053 [00:00<?, ?it/s]"
      ]
     },
     "metadata": {},
     "output_type": "display_data"
    },
    {
     "name": "stdout",
     "output_type": "stream",
     "text": [
      "10489\n"
     ]
    },
    {
     "data": {
      "application/vnd.jupyter.widget-view+json": {
       "model_id": "ffc8388fb00a4b70bdf662fdd03a6a70",
       "version_major": 2,
       "version_minor": 0
      },
      "text/plain": [
       "0it [00:00, ?it/s]"
      ]
     },
     "metadata": {},
     "output_type": "display_data"
    },
    {
     "data": {
      "application/vnd.jupyter.widget-view+json": {
       "model_id": "1e25a9e4c87c41c6bc6c57caa10040b4",
       "version_major": 2,
       "version_minor": 0
      },
      "text/plain": [
       "  0%|          | 0/68301 [00:00<?, ?it/s]"
      ]
     },
     "metadata": {},
     "output_type": "display_data"
    },
    {
     "name": "stdout",
     "output_type": "stream",
     "text": [
      "8048\n"
     ]
    },
    {
     "data": {
      "application/vnd.jupyter.widget-view+json": {
       "model_id": "ded8cca9e66e4960b3968c0bf81b3040",
       "version_major": 2,
       "version_minor": 0
      },
      "text/plain": [
       "  0%|          | 0/4030 [00:00<?, ?it/s]"
      ]
     },
     "metadata": {},
     "output_type": "display_data"
    },
    {
     "data": {
      "application/vnd.jupyter.widget-view+json": {
       "model_id": "4ba8c65752aa434598aa8f5c86f6e72a",
       "version_major": 2,
       "version_minor": 0
      },
      "text/plain": [
       "  0%|          | 0/79790 [00:00<?, ?it/s]"
      ]
     },
     "metadata": {},
     "output_type": "display_data"
    },
    {
     "name": "stdout",
     "output_type": "stream",
     "text": [
      "2887\n"
     ]
    },
    {
     "data": {
      "application/vnd.jupyter.widget-view+json": {
       "model_id": "bfb3e5191f5348529ded9e356383b0fa",
       "version_major": 2,
       "version_minor": 0
      },
      "text/plain": [
       "  0%|          | 0/160 [00:00<?, ?it/s]"
      ]
     },
     "metadata": {},
     "output_type": "display_data"
    },
    {
     "data": {
      "application/vnd.jupyter.widget-view+json": {
       "model_id": "e65ef854fcb345e394fdf1eb9df127cc",
       "version_major": 2,
       "version_minor": 0
      },
      "text/plain": [
       "  0%|          | 0/72927 [00:00<?, ?it/s]"
      ]
     },
     "metadata": {},
     "output_type": "display_data"
    },
    {
     "name": "stdout",
     "output_type": "stream",
     "text": [
      "1550\n"
     ]
    },
    {
     "data": {
      "application/vnd.jupyter.widget-view+json": {
       "model_id": "d9cdff12273647e78e6e379fd1a21c1a",
       "version_major": 2,
       "version_minor": 0
      },
      "text/plain": [
       "  0%|          | 0/290 [00:00<?, ?it/s]"
      ]
     },
     "metadata": {},
     "output_type": "display_data"
    },
    {
     "data": {
      "application/vnd.jupyter.widget-view+json": {
       "model_id": "0da63b20f7ab4639ab5d04e6d2b338ba",
       "version_major": 2,
       "version_minor": 0
      },
      "text/plain": [
       "  0%|          | 0/74816 [00:00<?, ?it/s]"
      ]
     },
     "metadata": {},
     "output_type": "display_data"
    },
    {
     "name": "stdout",
     "output_type": "stream",
     "text": [
      "5200\n"
     ]
    },
    {
     "data": {
      "application/vnd.jupyter.widget-view+json": {
       "model_id": "bbb3a5e7aa814baf98857287cff62467",
       "version_major": 2,
       "version_minor": 0
      },
      "text/plain": [
       "  0%|          | 0/140 [00:00<?, ?it/s]"
      ]
     },
     "metadata": {},
     "output_type": "display_data"
    },
    {
     "data": {
      "application/vnd.jupyter.widget-view+json": {
       "model_id": "62530c671bb44fcba88a96ce789ebe7b",
       "version_major": 2,
       "version_minor": 0
      },
      "text/plain": [
       "  0%|          | 0/71162 [00:00<?, ?it/s]"
      ]
     },
     "metadata": {},
     "output_type": "display_data"
    },
    {
     "name": "stdout",
     "output_type": "stream",
     "text": [
      "2738\n"
     ]
    },
    {
     "data": {
      "application/vnd.jupyter.widget-view+json": {
       "model_id": "012634dac6bb4f52b8d191ce330fd591",
       "version_major": 2,
       "version_minor": 0
      },
      "text/plain": [
       "  0%|          | 0/180 [00:00<?, ?it/s]"
      ]
     },
     "metadata": {},
     "output_type": "display_data"
    },
    {
     "data": {
      "application/vnd.jupyter.widget-view+json": {
       "model_id": "8ae5fc02a9b04ea589dd5888b8c3d17c",
       "version_major": 2,
       "version_minor": 0
      },
      "text/plain": [
       "  0%|          | 0/76775 [00:00<?, ?it/s]"
      ]
     },
     "metadata": {},
     "output_type": "display_data"
    },
    {
     "name": "stdout",
     "output_type": "stream",
     "text": [
      "2139\n"
     ]
    },
    {
     "data": {
      "application/vnd.jupyter.widget-view+json": {
       "model_id": "f654efc54f874d07a8d17e3b911d32a5",
       "version_major": 2,
       "version_minor": 0
      },
      "text/plain": [
       "  0%|          | 0/110 [00:00<?, ?it/s]"
      ]
     },
     "metadata": {},
     "output_type": "display_data"
    },
    {
     "data": {
      "application/vnd.jupyter.widget-view+json": {
       "model_id": "ce653500000e486d90c16f8c135ae498",
       "version_major": 2,
       "version_minor": 0
      },
      "text/plain": [
       "  0%|          | 0/78569 [00:00<?, ?it/s]"
      ]
     },
     "metadata": {},
     "output_type": "display_data"
    },
    {
     "name": "stdout",
     "output_type": "stream",
     "text": [
      "9529\n"
     ]
    },
    {
     "data": {
      "application/vnd.jupyter.widget-view+json": {
       "model_id": "aaea7a2df8c44fc590cfece9fa52a0a8",
       "version_major": 2,
       "version_minor": 0
      },
      "text/plain": [
       "  0%|          | 0/90 [00:00<?, ?it/s]"
      ]
     },
     "metadata": {},
     "output_type": "display_data"
    },
    {
     "data": {
      "application/vnd.jupyter.widget-view+json": {
       "model_id": "3b31bae7019843c8a447ee0e9dc4fe43",
       "version_major": 2,
       "version_minor": 0
      },
      "text/plain": [
       "  0%|          | 0/76244 [00:00<?, ?it/s]"
      ]
     },
     "metadata": {},
     "output_type": "display_data"
    },
    {
     "name": "stdout",
     "output_type": "stream",
     "text": [
      "6390\n"
     ]
    },
    {
     "data": {
      "application/vnd.jupyter.widget-view+json": {
       "model_id": "9f16865c212a454d87d35bf4aaea9c79",
       "version_major": 2,
       "version_minor": 0
      },
      "text/plain": [
       "  0%|          | 0/500 [00:00<?, ?it/s]"
      ]
     },
     "metadata": {},
     "output_type": "display_data"
    },
    {
     "data": {
      "application/vnd.jupyter.widget-view+json": {
       "model_id": "54d9106f1b904ab2bf00b564e9d4f02d",
       "version_major": 2,
       "version_minor": 0
      },
      "text/plain": [
       "  0%|          | 0/66589 [00:00<?, ?it/s]"
      ]
     },
     "metadata": {},
     "output_type": "display_data"
    },
    {
     "name": "stdout",
     "output_type": "stream",
     "text": [
      "7734\n"
     ]
    },
    {
     "data": {
      "application/vnd.jupyter.widget-view+json": {
       "model_id": "e1346bc1900948fcb6ef869fcab46f33",
       "version_major": 2,
       "version_minor": 0
      },
      "text/plain": [
       "  0%|          | 0/1290 [00:00<?, ?it/s]"
      ]
     },
     "metadata": {},
     "output_type": "display_data"
    },
    {
     "data": {
      "application/vnd.jupyter.widget-view+json": {
       "model_id": "5b27906316e043baa540160866fa8a24",
       "version_major": 2,
       "version_minor": 0
      },
      "text/plain": [
       "  0%|          | 0/78031 [00:00<?, ?it/s]"
      ]
     },
     "metadata": {},
     "output_type": "display_data"
    },
    {
     "name": "stdout",
     "output_type": "stream",
     "text": [
      "6417\n"
     ]
    },
    {
     "data": {
      "application/vnd.jupyter.widget-view+json": {
       "model_id": "fb3f451bbe94462fb3f1b267a675c6f8",
       "version_major": 2,
       "version_minor": 0
      },
      "text/plain": [
       "  0%|          | 0/80 [00:00<?, ?it/s]"
      ]
     },
     "metadata": {},
     "output_type": "display_data"
    },
    {
     "data": {
      "application/vnd.jupyter.widget-view+json": {
       "model_id": "0fc11275551943fb9f42fc62d2997ac6",
       "version_major": 2,
       "version_minor": 0
      },
      "text/plain": [
       "  0%|          | 0/78105 [00:00<?, ?it/s]"
      ]
     },
     "metadata": {},
     "output_type": "display_data"
    },
    {
     "name": "stdout",
     "output_type": "stream",
     "text": [
      "6531\n"
     ]
    },
    {
     "data": {
      "application/vnd.jupyter.widget-view+json": {
       "model_id": "6e83c1193acf436998ffbff36d19247b",
       "version_major": 2,
       "version_minor": 0
      },
      "text/plain": [
       "  0%|          | 0/190 [00:00<?, ?it/s]"
      ]
     },
     "metadata": {},
     "output_type": "display_data"
    },
    {
     "data": {
      "application/vnd.jupyter.widget-view+json": {
       "model_id": "386c166d5c8247228a5ae547c22ae8cc",
       "version_major": 2,
       "version_minor": 0
      },
      "text/plain": [
       "  0%|          | 0/73879 [00:00<?, ?it/s]"
      ]
     },
     "metadata": {},
     "output_type": "display_data"
    },
    {
     "name": "stdout",
     "output_type": "stream",
     "text": [
      "9328\n"
     ]
    },
    {
     "data": {
      "application/vnd.jupyter.widget-view+json": {
       "model_id": "397793edeaf949c699e405d0c8d63dab",
       "version_major": 2,
       "version_minor": 0
      },
      "text/plain": [
       "  0%|          | 0/1400 [00:00<?, ?it/s]"
      ]
     },
     "metadata": {},
     "output_type": "display_data"
    }
   ],
   "source": [
    "X_train = []\n",
    "y_train = []\n",
    "train_indices = []\n",
    "\n",
    "for patient_num, sampling_strategy in [\n",
    "    ('001', 1/10),\n",
    "    ('002', 1/50),\n",
    "    ('003', 1/10),\n",
    "    ('004', 1/10),\n",
    "    ('005', 1/10),\n",
    "    ('006', 1/10),\n",
    "    ('007', 1/10),\n",
    "    ('008', 1/10),\n",
    "    ('009', 1/10),\n",
    "    ('010', 1/50),\n",
    "    ('011', 1/10),\n",
    "    ('012', 1/10),\n",
    "    ('013', 1/10),\n",
    "]:\n",
    "    prepare_training(patient_num)"
   ]
  },
  {
   "cell_type": "code",
   "execution_count": 5,
   "id": "european-python",
   "metadata": {},
   "outputs": [
    {
     "name": "stdout",
     "output_type": "stream",
     "text": [
      "WARNING:tensorflow:From /home/michael/anaconda3/envs/keras/lib/python3.7/site-packages/tensorflow/python/ops/init_ops.py:1251: calling VarianceScaling.__init__ (from tensorflow.python.ops.init_ops) with dtype is deprecated and will be removed in a future version.\n",
      "Instructions for updating:\n",
      "Call initializer instance with the dtype argument instead of passing it to the constructor\n",
      "WARNING:tensorflow:From /home/michael/anaconda3/envs/keras/lib/python3.7/site-packages/tensorflow/python/ops/nn_impl.py:180: add_dispatch_support.<locals>.wrapper (from tensorflow.python.ops.array_ops) is deprecated and will be removed in a future version.\n",
      "Instructions for updating:\n",
      "Use tf.where in 2.0, which has the same broadcast rule as np.where\n"
     ]
    }
   ],
   "source": [
    "model = models.Sequential()\n",
    "model.add(\n",
    "    layers.Conv2D(\n",
    "        16, \n",
    "        (3, 6), \n",
    "        activation='relu', \n",
    "        input_shape=(20,6,1), \n",
    "        padding = 'same',\n",
    "        data_format='channels_last'\n",
    "    )\n",
    ")\n",
    "\n",
    "### This next layer wasn't in there before\n",
    "model.add(layers.MaxPooling2D(pool_size = (2,1)))\n",
    "model.add(layers.Conv2D(16, (3,6), activation='relu', padding = 'same'))\n",
    "model.add(layers.MaxPooling2D(pool_size = (2,1)))\n",
    "model.add(layers.Conv2D(16, (3,6), activation='relu', padding = 'same'))\n",
    "model.add(layers.MaxPooling2D(pool_size = (2,1)))\n",
    "model.add(layers.Flatten())\n",
    "model.add(layers.Dense(16, activation='relu'))\n",
    "model.add(layers.Dense(16, activation='relu'))\n",
    "model.add(layers.Dense(1, activation = 'sigmoid'))\n",
    "\n",
    "model.compile(\n",
    "    loss='binary_crossentropy',\n",
    "    optimizer='adam',\n",
    "    metrics=['accuracy'],\n",
    ")"
   ]
  },
  {
   "cell_type": "code",
   "execution_count": 6,
   "id": "perceived-trance",
   "metadata": {},
   "outputs": [
    {
     "name": "stdout",
     "output_type": "stream",
     "text": [
      "Epoch 1/30\n",
      "87440/87440 [==============================] - 17s 200us/sample - loss: 0.0351 - acc: 0.9893\n",
      "Epoch 2/30\n",
      "87440/87440 [==============================] - 18s 204us/sample - loss: 0.0166 - acc: 0.9943\n",
      "Epoch 3/30\n",
      "87440/87440 [==============================] - 16s 187us/sample - loss: 0.0135 - acc: 0.9956\n",
      "Epoch 4/30\n",
      "87440/87440 [==============================] - 16s 188us/sample - loss: 0.0115 - acc: 0.9964\n",
      "Epoch 5/30\n",
      "87440/87440 [==============================] - 16s 188us/sample - loss: 0.0101 - acc: 0.9968\n",
      "Epoch 6/30\n",
      "87440/87440 [==============================] - 16s 184us/sample - loss: 0.0086 - acc: 0.9972\n",
      "Epoch 7/30\n",
      "87440/87440 [==============================] - 16s 182us/sample - loss: 0.0078 - acc: 0.9977\n",
      "Epoch 8/30\n",
      "87440/87440 [==============================] - 16s 179us/sample - loss: 0.0068 - acc: 0.9981\n",
      "Epoch 9/30\n",
      "87440/87440 [==============================] - 16s 181us/sample - loss: 0.0064 - acc: 0.9981\n",
      "Epoch 10/30\n",
      "87440/87440 [==============================] - 16s 179us/sample - loss: 0.0058 - acc: 0.9983\n",
      "Epoch 11/30\n",
      "87440/87440 [==============================] - 16s 178us/sample - loss: 0.0048 - acc: 0.9986\n",
      "Epoch 12/30\n",
      "87440/87440 [==============================] - 16s 178us/sample - loss: 0.0047 - acc: 0.9987\n",
      "Epoch 13/30\n",
      "87440/87440 [==============================] - 15s 177us/sample - loss: 0.0041 - acc: 0.9990\n",
      "Epoch 14/30\n",
      "87440/87440 [==============================] - 16s 179us/sample - loss: 0.0042 - acc: 0.9988\n",
      "Epoch 15/30\n",
      "87440/87440 [==============================] - 16s 179us/sample - loss: 0.0037 - acc: 0.9990\n",
      "Epoch 16/30\n",
      "87440/87440 [==============================] - 17s 191us/sample - loss: 0.0035 - acc: 0.9991\n",
      "Epoch 17/30\n",
      "87440/87440 [==============================] - 16s 181us/sample - loss: 0.0035 - acc: 0.9990\n",
      "Epoch 18/30\n",
      "87440/87440 [==============================] - 16s 181us/sample - loss: 0.0030 - acc: 0.9992\n",
      "Epoch 19/30\n",
      "87440/87440 [==============================] - 16s 181us/sample - loss: 0.0029 - acc: 0.9992\n",
      "Epoch 20/30\n",
      "87440/87440 [==============================] - 16s 181us/sample - loss: 0.0026 - acc: 0.9992\n",
      "Epoch 21/30\n",
      "87440/87440 [==============================] - 17s 193us/sample - loss: 0.0021 - acc: 0.9993\n",
      "Epoch 22/30\n",
      "87440/87440 [==============================] - 15s 175us/sample - loss: 0.0024 - acc: 0.9993\n",
      "Epoch 23/30\n",
      "87440/87440 [==============================] - 15s 174us/sample - loss: 0.0019 - acc: 0.9995\n",
      "Epoch 24/30\n",
      "87440/87440 [==============================] - 15s 173us/sample - loss: 0.0021 - acc: 0.9994\n",
      "Epoch 25/30\n",
      "87440/87440 [==============================] - 15s 175us/sample - loss: 0.0020 - acc: 0.9994\n",
      "Epoch 26/30\n",
      "87440/87440 [==============================] - 15s 173us/sample - loss: 0.0019 - acc: 0.9995\n",
      "Epoch 27/30\n",
      "87440/87440 [==============================] - 15s 173us/sample - loss: 0.0011 - acc: 0.9996\n",
      "Epoch 28/30\n",
      "87440/87440 [==============================] - 15s 172us/sample - loss: 0.0021 - acc: 0.9994\n",
      "Epoch 29/30\n",
      "87440/87440 [==============================] - 15s 173us/sample - loss: 8.4040e-04 - acc: 0.9998\n",
      "Epoch 30/30\n",
      "87440/87440 [==============================] - 15s 173us/sample - loss: 0.0021 - acc: 0.9994\n"
     ]
    }
   ],
   "source": [
    "history = model.fit(\n",
    "    np.array(X_train).reshape(\n",
    "        len(X_train), \n",
    "        X_train[0].shape[0], \n",
    "        6, \n",
    "        1), \n",
    "    np.array(y_train),\n",
    "    epochs=30\n",
    ")"
   ]
  },
  {
   "cell_type": "code",
   "execution_count": 8,
   "id": "signed-alfred",
   "metadata": {},
   "outputs": [],
   "source": [
    "model.save('../models/2024_11_28_model')"
   ]
  },
  {
   "cell_type": "code",
   "execution_count": 8,
   "id": "developing-postcard",
   "metadata": {},
   "outputs": [],
   "source": [
    "def import_training_data(patient_num):\n",
    "    \n",
    "    # First, get the labels\n",
    "    labels = pd.read_csv(f'../data/new_data/marked/labels/labels_{patient_num}.csv')\n",
    "    sgb = labels['labels'].tolist()\n",
    "        \n",
    "    # Then the raw data\n",
    "    readings = pd.read_csv(f'../data/new_data/eval_data/{patient_num} RAW 00.csv')\n",
    "    readings['Time'] = pd.to_datetime(readings['Time'])\n",
    "    readings['CapturedTime'] = readings['Time'].dt.time\n",
    "    \n",
    "    # Then remove the meal times\n",
    "    events = pd.read_csv(f'../data/new_data/eval_data/{patient_num} EVT 00.csv')\n",
    "    events = events[events['EventName'] == 'Meal']\n",
    "    events['Time'] = pd.to_datetime(events['Time'])\n",
    "    events['Duration'] = pd.to_timedelta(events['Duration'])\n",
    "    events = events.assign(End = events['Time'] + events['Duration'])\n",
    "    for idx, row in events.iterrows():\n",
    "        readings = readings[(readings['Time'] < row['Time']) | (readings['Time'] > row['End'])]\n",
    "    \n",
    "#     # There is a section for patient 008 at the end which is all maxed outs\n",
    "#     if patient_num == '008':\n",
    "#         readings = readings.loc[:837833]\n",
    "    \n",
    "#     # There is a missing segment of time for 009, so we need to repair the index\n",
    "#     if patient_num == '009':\n",
    "#         readings.index = [x + 4 if x >= 276 else x for x in readings.index]\n",
    "        \n",
    "#     # There is a section for patient 010 at the end which is all maxed outs\n",
    "#     if patient_num == '010':\n",
    "#         readings = readings.loc[:731110]\n",
    "    \n",
    "    return sgb, readings"
   ]
  },
  {
   "cell_type": "code",
   "execution_count": 10,
   "id": "entertaining-reggae",
   "metadata": {},
   "outputs": [],
   "source": [
    "def import_data(patient_num):\n",
    "\n",
    "    # First, get the labels\n",
    "    labels = pd.read_csv(f'../data/new_data/centered/centered_{patient_num}.csv')\n",
    "\n",
    "    #others = pd.read_csv(f'../data/centering/double_check/reviewed/dc_{patient_num}.csv')\n",
    "    #others['Review'] = others['Review'].str.strip()\n",
    "    #others = others[others['Review'] == 'Yes']\n",
    "\n",
    "    #sgb_times = pd.concat([labels[['Time']], others[['Time']]])\n",
    "    sgb_times = labels[['Time']]\n",
    "    sgb_times['Time'] = pd.to_datetime(sgb_times['Time'])\n",
    "    sgb_times['sgb'] = True\n",
    "\n",
    "    # Then the raw data\n",
    "    readings = pd.read_csv(f'../data/new_data/eval_data/{patient_num} RAW 00.csv')\n",
    "    readings['Time'] = pd.to_datetime(readings['Time'])\n",
    "    readings['CapturedTime'] = readings['Time'].dt.time\n",
    "\n",
    "    # Combine them to label the events times\n",
    "    readings = pd.merge(left = readings,\n",
    "             right = sgb_times[['Time', 'sgb']],\n",
    "            how = 'outer').fillna('False')\n",
    "    \n",
    "    # Then remove the meal times\n",
    "    events = pd.read_csv(f'../data/new_data/eval_data/{patient_num} EVT 00.csv')\n",
    "    events = events[events['EventName'] == 'Meal']\n",
    "    events['Time'] = pd.to_datetime(events['Time'])\n",
    "    events['Duration'] = pd.to_timedelta(events['Duration'])\n",
    "    events = events.assign(End = events['Time'] + events['Duration'])\n",
    "    for idx, row in events.iterrows():\n",
    "        readings = readings[(readings['Time'] < row['Time']) | (readings['Time'] > row['End'])]\n",
    "        \n",
    "    # Normalize the readings to be between 0 and 1\n",
    "    for channel in ['Channel_1', 'Channel_2', 'Channel_3',\n",
    "           'Channel_4', 'Channel_5', 'Channel_6']:\n",
    "        readings[channel] = readings[channel] / 10000    \n",
    "    return readings"
   ]
  },
  {
   "cell_type": "code",
   "execution_count": 78,
   "id": "reflected-least",
   "metadata": {},
   "outputs": [
    {
     "name": "stderr",
     "output_type": "stream",
     "text": [
      "/home/michael/anaconda3/envs/keras/lib/python3.7/site-packages/ipykernel_launcher.py:12: SettingWithCopyWarning: \n",
      "A value is trying to be set on a copy of a slice from a DataFrame.\n",
      "Try using .loc[row_indexer,col_indexer] = value instead\n",
      "\n",
      "See the caveats in the documentation: https://pandas.pydata.org/pandas-docs/stable/user_guide/indexing.html#returning-a-view-versus-a-copy\n",
      "  if sys.path[0] == '':\n"
     ]
    }
   ],
   "source": [
    "patient_num = '89'\n",
    "readings = import_data(patient_num)"
   ]
  },
  {
   "cell_type": "code",
   "execution_count": 79,
   "id": "martial-disability",
   "metadata": {},
   "outputs": [
    {
     "data": {
      "application/vnd.jupyter.widget-view+json": {
       "model_id": "c72053d75dd1401e8be3d7887ff33840",
       "version_major": 2,
       "version_minor": 0
      },
      "text/plain": [
       "  0%|          | 0/769667 [00:00<?, ?it/s]"
      ]
     },
     "metadata": {},
     "output_type": "display_data"
    }
   ],
   "source": [
    "X_test = []\n",
    "test_indices = []\n",
    "\n",
    "for idx in tqdm(readings.index.tolist()):\n",
    "    offset = 0\n",
    "    duration = 20\n",
    "\n",
    "    idx = idx - offset\n",
    "\n",
    "    readings_sub = readings.loc[idx:idx + duration - 1][['Channel_' + str(j) for j in range(1,7)]].values\n",
    "    if readings_sub.shape == (duration, 6) and np.abs(np.diff(readings_sub, axis = 0)).sum() > 1:\n",
    "        X_test.append(readings_sub)\n",
    "        test_indices.append(idx)"
   ]
  },
  {
   "cell_type": "code",
   "execution_count": 80,
   "id": "technological-swiss",
   "metadata": {},
   "outputs": [],
   "source": [
    "predictions = model.predict(np.array(X_test).reshape(len(X_test), X_train[0].shape[0], 6, 1))"
   ]
  },
  {
   "cell_type": "code",
   "execution_count": 90,
   "id": "cardiovascular-baptist",
   "metadata": {},
   "outputs": [],
   "source": [
    "def plot_event(idx, duration = 50, shift = 15, filepath = None):\n",
    "    readings_sub = (\n",
    "        readings\n",
    "        .loc[idx - shift:idx - shift + duration - 1]\n",
    "        [['Channel_' + str(i) for i in range(1,7)]]\n",
    "        .values\n",
    "    ) * 10000\n",
    "\n",
    "    fig, ax = plt.subplots(figsize = (12,6))\n",
    "\n",
    "    times = readings.loc[idx - shift:idx - shift + duration - 1, 'Time']\n",
    "\n",
    "    for i in range(6):\n",
    "        plt.plot(times, readings_sub[:, i], label = 'Channel_' + str(i + 1))\n",
    "\n",
    "    plt.ylim(-100, 10300)\n",
    "        \n",
    "    ax.xaxis.set_major_formatter(dateformat)\n",
    "\n",
    "    plt.legend(bbox_to_anchor = (1, 0.5), loc = 'center left')\n",
    "    \n",
    "    if filepath:\n",
    "        plt.tight_layout()\n",
    "        plt.savefig(filepath, \n",
    "                    dpi = 150, \n",
    "                    transparent = False, \n",
    "                    facecolor = 'white')\n",
    "        \n",
    "        plt.close();"
   ]
  },
  {
   "cell_type": "code",
   "execution_count": 82,
   "id": "virtual-shame",
   "metadata": {},
   "outputs": [
    {
     "data": {
      "application/vnd.jupyter.widget-view+json": {
       "model_id": "ec01da3dd25b446c8276738fe4a06485",
       "version_major": 2,
       "version_minor": 0
      },
      "text/plain": [
       "  0%|          | 0/1381 [00:00<?, ?it/s]"
      ]
     },
     "metadata": {},
     "output_type": "display_data"
    }
   ],
   "source": [
    "prediction_indices = [test_indices[x] for x in np.where(predictions.flatten() > 0.5)[0]]\n",
    "\n",
    "true_indices = readings[readings['sgb'] == True].index.tolist()\n",
    "\n",
    "true_positives = []\n",
    "false_positives = []\n",
    "for idx in tqdm(prediction_indices):\n",
    "    fp = True\n",
    "    for i in range(15):\n",
    "        if idx - i in true_indices:\n",
    "            true_positives.append(idx - i)\n",
    "            fp = False\n",
    "            continue\n",
    "        if idx + i in true_indices:\n",
    "            true_positives.append(idx + i)\n",
    "            fp = False\n",
    "            continue\n",
    "    if fp:\n",
    "        false_positives.append(idx)\n",
    "        \n",
    "true_positives = set(true_positives)"
   ]
  },
  {
   "cell_type": "code",
   "execution_count": 83,
   "id": "armed-recognition",
   "metadata": {},
   "outputs": [
    {
     "data": {
      "text/plain": [
       "467"
      ]
     },
     "execution_count": 83,
     "metadata": {},
     "output_type": "execute_result"
    }
   ],
   "source": [
    "len(true_positives)"
   ]
  },
  {
   "cell_type": "code",
   "execution_count": 84,
   "id": "charming-boston",
   "metadata": {},
   "outputs": [
    {
     "data": {
      "text/plain": [
       "604"
      ]
     },
     "execution_count": 84,
     "metadata": {},
     "output_type": "execute_result"
    }
   ],
   "source": [
    "len(true_indices)"
   ]
  },
  {
   "cell_type": "code",
   "execution_count": 85,
   "id": "refined-length",
   "metadata": {},
   "outputs": [
    {
     "data": {
      "text/plain": [
       "1381"
      ]
     },
     "execution_count": 85,
     "metadata": {},
     "output_type": "execute_result"
    }
   ],
   "source": [
    "len(prediction_indices)"
   ]
  },
  {
   "cell_type": "code",
   "execution_count": 86,
   "id": "american-grove",
   "metadata": {},
   "outputs": [
    {
     "data": {
      "text/plain": [
       "103"
      ]
     },
     "execution_count": 86,
     "metadata": {},
     "output_type": "execute_result"
    }
   ],
   "source": [
    "len(false_positives)"
   ]
  },
  {
   "cell_type": "code",
   "execution_count": 87,
   "id": "frequent-processor",
   "metadata": {},
   "outputs": [],
   "source": [
    "false_positives = pd.DataFrame({'fp_index': false_positives})\n",
    "\n",
    "false_positives['diff'] = false_positives['fp_index'].diff()\n",
    "\n",
    "false_positives = false_positives[~(false_positives['diff'].isin([1, 2, 3, 4, 5]))]"
   ]
  },
  {
   "cell_type": "code",
   "execution_count": 88,
   "id": "equal-environment",
   "metadata": {},
   "outputs": [
    {
     "data": {
      "text/plain": [
       "51"
      ]
     },
     "execution_count": 88,
     "metadata": {},
     "output_type": "execute_result"
    }
   ],
   "source": [
    "len(false_positives)"
   ]
  },
  {
   "cell_type": "code",
   "execution_count": 91,
   "id": "green-civilian",
   "metadata": {
    "scrolled": true
   },
   "outputs": [],
   "source": [
    "for i, fp in enumerate(false_positives['fp_index'].to_list()):\n",
    "    plot_event(fp, filepath=f'../data/new_data/images/images_{patient_num}/fp/fp_{str(i).zfill(3)}.png')"
   ]
  },
  {
   "cell_type": "code",
   "execution_count": 92,
   "id": "expired-institute",
   "metadata": {},
   "outputs": [],
   "source": [
    "fp_df = false_positives[['fp_index']]\n",
    "fp_df['patient_num'] = patient_num\n",
    "fp_df = fp_df.reset_index(drop = True)\n",
    "fp_df = fp_df.reset_index()\n",
    "fp_df['image_number'] = 'fp_' + fp_df['index'].astype('string').str.zfill(3)\n",
    "fp_df['timestamp'] = readings.loc[fp_df['fp_index'].tolist(), 'Time'].tolist()\n",
    "fp_df = fp_df[['patient_num', 'image_number', 'timestamp']]\n",
    "fp_df.to_csv(f'../data/new_data/images/images_{patient_num}/fp.csv', index = False)"
   ]
  },
  {
   "cell_type": "code",
   "execution_count": 93,
   "id": "corrected-bride",
   "metadata": {},
   "outputs": [],
   "source": [
    "false_negatives = [x for x in true_indices if x not in true_positives]"
   ]
  },
  {
   "cell_type": "code",
   "execution_count": 94,
   "id": "radio-cleaner",
   "metadata": {},
   "outputs": [],
   "source": [
    "for i, fp in enumerate(false_negatives):\n",
    "    plot_event(fp, filepath=f'../data/new_data/images/images_{patient_num}/fn/fn_{str(i).zfill(3)}.png')"
   ]
  },
  {
   "cell_type": "code",
   "execution_count": 95,
   "id": "consolidated-raising",
   "metadata": {},
   "outputs": [],
   "source": [
    "fn_df = pd.DataFrame({'fp_index': false_negatives})\n",
    "fn_df['patient_num'] = patient_num\n",
    "fn_df = fn_df.reset_index(drop = True)\n",
    "fn_df = fn_df.reset_index()\n",
    "fn_df['image_number'] = 'fn_' + fn_df['index'].astype('string').str.zfill(3)\n",
    "fn_df['timestamp'] = readings.loc[fn_df['fp_index'].tolist(), 'Time'].tolist()\n",
    "fn_df = fn_df[['patient_num', 'image_number', 'timestamp']]\n",
    "fn_df.to_csv(f'../data/new_data/images/images_{patient_num}/fn.csv', index = False)"
   ]
  },
  {
   "cell_type": "code",
   "execution_count": 59,
   "id": "basic-election",
   "metadata": {},
   "outputs": [],
   "source": [
    "readings.loc[false_positives['fp_index'], ['Time']].to_csv(f'../data/new_data/images/images_{patient_num}/fp_{patient_num}.csv', index = False)\n",
    "readings.loc[false_negatives, ['Time']].to_csv(f'../data/new_data/images/images_{patient_num}/fn_{patient_num}.csv', index = False)"
   ]
  },
  {
   "cell_type": "code",
   "execution_count": 58,
   "id": "strange-davis",
   "metadata": {},
   "outputs": [
    {
     "data": {
      "text/html": [
       "<div>\n",
       "<style scoped>\n",
       "    .dataframe tbody tr th:only-of-type {\n",
       "        vertical-align: middle;\n",
       "    }\n",
       "\n",
       "    .dataframe tbody tr th {\n",
       "        vertical-align: top;\n",
       "    }\n",
       "\n",
       "    .dataframe thead th {\n",
       "        text-align: right;\n",
       "    }\n",
       "</style>\n",
       "<table border=\"1\" class=\"dataframe\">\n",
       "  <thead>\n",
       "    <tr style=\"text-align: right;\">\n",
       "      <th></th>\n",
       "      <th>Time</th>\n",
       "      <th>ElapsedTime</th>\n",
       "      <th>Channel_1</th>\n",
       "      <th>Channel_2</th>\n",
       "      <th>Channel_3</th>\n",
       "      <th>Channel_4</th>\n",
       "      <th>Channel_5</th>\n",
       "      <th>Channel_6</th>\n",
       "      <th>Channel_7</th>\n",
       "      <th>Channel_8</th>\n",
       "      <th>CapturedTime</th>\n",
       "      <th>sgb</th>\n",
       "    </tr>\n",
       "  </thead>\n",
       "  <tbody>\n",
       "    <tr>\n",
       "      <th>345</th>\n",
       "      <td>2017-11-06 15:25:29.500</td>\n",
       "      <td>00:00:34.50</td>\n",
       "      <td>0.418052</td>\n",
       "      <td>0.422936</td>\n",
       "      <td>0.169712</td>\n",
       "      <td>0.149688</td>\n",
       "      <td>0.133572</td>\n",
       "      <td>0.115013</td>\n",
       "      <td>6.89</td>\n",
       "      <td>5.14</td>\n",
       "      <td>15:25:29.500000</td>\n",
       "      <td>True</td>\n",
       "    </tr>\n",
       "    <tr>\n",
       "      <th>2541</th>\n",
       "      <td>2017-11-06 15:29:09.100</td>\n",
       "      <td>00:04:14.10</td>\n",
       "      <td>0.244434</td>\n",
       "      <td>0.284725</td>\n",
       "      <td>0.135281</td>\n",
       "      <td>0.110862</td>\n",
       "      <td>0.094257</td>\n",
       "      <td>0.116967</td>\n",
       "      <td>6.77</td>\n",
       "      <td>1.99</td>\n",
       "      <td>15:29:09.100000</td>\n",
       "      <td>True</td>\n",
       "    </tr>\n",
       "    <tr>\n",
       "      <th>97364</th>\n",
       "      <td>2017-11-06 18:07:11.400</td>\n",
       "      <td>02:42:16.40</td>\n",
       "      <td>0.912536</td>\n",
       "      <td>0.875175</td>\n",
       "      <td>0.935001</td>\n",
       "      <td>0.387284</td>\n",
       "      <td>0.351389</td>\n",
       "      <td>0.999956</td>\n",
       "      <td>4.47</td>\n",
       "      <td>5.75</td>\n",
       "      <td>18:07:11.400000</td>\n",
       "      <td>True</td>\n",
       "    </tr>\n",
       "    <tr>\n",
       "      <th>99075</th>\n",
       "      <td>2017-11-06 18:10:02.500</td>\n",
       "      <td>02:45:07.50</td>\n",
       "      <td>0.179235</td>\n",
       "      <td>0.228073</td>\n",
       "      <td>0.173130</td>\n",
       "      <td>0.121851</td>\n",
       "      <td>0.129420</td>\n",
       "      <td>0.100606</td>\n",
       "      <td>6.18</td>\n",
       "      <td>5.57</td>\n",
       "      <td>18:10:02.500000</td>\n",
       "      <td>True</td>\n",
       "    </tr>\n",
       "    <tr>\n",
       "      <th>142284</th>\n",
       "      <td>2017-11-06 19:22:03.400</td>\n",
       "      <td>03:57:08.40</td>\n",
       "      <td>0.182898</td>\n",
       "      <td>0.253224</td>\n",
       "      <td>0.120141</td>\n",
       "      <td>0.056408</td>\n",
       "      <td>0.048350</td>\n",
       "      <td>0.045419</td>\n",
       "      <td>3.33</td>\n",
       "      <td>4.07</td>\n",
       "      <td>19:22:03.400000</td>\n",
       "      <td>True</td>\n",
       "    </tr>\n",
       "    <tr>\n",
       "      <th>188798</th>\n",
       "      <td>2017-11-06 20:39:34.800</td>\n",
       "      <td>05:14:39.80</td>\n",
       "      <td>0.461030</td>\n",
       "      <td>0.432460</td>\n",
       "      <td>0.328191</td>\n",
       "      <td>0.252736</td>\n",
       "      <td>0.157258</td>\n",
       "      <td>0.098653</td>\n",
       "      <td>6.00</td>\n",
       "      <td>4.40</td>\n",
       "      <td>20:39:34.800000</td>\n",
       "      <td>True</td>\n",
       "    </tr>\n",
       "    <tr>\n",
       "      <th>216228</th>\n",
       "      <td>2017-11-06 21:25:17.800</td>\n",
       "      <td>06:00:22.80</td>\n",
       "      <td>0.307923</td>\n",
       "      <td>0.441495</td>\n",
       "      <td>0.069594</td>\n",
       "      <td>0.048105</td>\n",
       "      <td>0.045663</td>\n",
       "      <td>0.052257</td>\n",
       "      <td>6.29</td>\n",
       "      <td>4.02</td>\n",
       "      <td>21:25:17.800000</td>\n",
       "      <td>True</td>\n",
       "    </tr>\n",
       "    <tr>\n",
       "      <th>225601</th>\n",
       "      <td>2017-11-06 21:40:55.100</td>\n",
       "      <td>06:16:00.10</td>\n",
       "      <td>0.347237</td>\n",
       "      <td>0.451750</td>\n",
       "      <td>0.298155</td>\n",
       "      <td>0.201945</td>\n",
       "      <td>0.260306</td>\n",
       "      <td>0.224654</td>\n",
       "      <td>6.08</td>\n",
       "      <td>3.49</td>\n",
       "      <td>21:40:55.100000</td>\n",
       "      <td>True</td>\n",
       "    </tr>\n",
       "    <tr>\n",
       "      <th>227396</th>\n",
       "      <td>2017-11-06 21:43:54.500</td>\n",
       "      <td>06:18:59.50</td>\n",
       "      <td>0.326237</td>\n",
       "      <td>0.325016</td>\n",
       "      <td>0.288144</td>\n",
       "      <td>0.427087</td>\n",
       "      <td>0.336737</td>\n",
       "      <td>0.140165</td>\n",
       "      <td>6.32</td>\n",
       "      <td>4.06</td>\n",
       "      <td>21:43:54.500000</td>\n",
       "      <td>True</td>\n",
       "    </tr>\n",
       "    <tr>\n",
       "      <th>227849</th>\n",
       "      <td>2017-11-06 21:44:39.800</td>\n",
       "      <td>06:19:44.80</td>\n",
       "      <td>0.193154</td>\n",
       "      <td>0.328679</td>\n",
       "      <td>0.476414</td>\n",
       "      <td>0.364331</td>\n",
       "      <td>0.235399</td>\n",
       "      <td>0.147002</td>\n",
       "      <td>6.34</td>\n",
       "      <td>3.74</td>\n",
       "      <td>21:44:39.800000</td>\n",
       "      <td>True</td>\n",
       "    </tr>\n",
       "    <tr>\n",
       "      <th>227953</th>\n",
       "      <td>2017-11-06 21:44:50.200</td>\n",
       "      <td>06:19:55.20</td>\n",
       "      <td>0.276422</td>\n",
       "      <td>0.153595</td>\n",
       "      <td>0.999956</td>\n",
       "      <td>0.999956</td>\n",
       "      <td>0.999956</td>\n",
       "      <td>0.339179</td>\n",
       "      <td>6.18</td>\n",
       "      <td>4.51</td>\n",
       "      <td>21:44:50.200000</td>\n",
       "      <td>True</td>\n",
       "    </tr>\n",
       "    <tr>\n",
       "      <th>228909</th>\n",
       "      <td>2017-11-06 21:46:25.800</td>\n",
       "      <td>06:21:30.80</td>\n",
       "      <td>0.320377</td>\n",
       "      <td>0.393633</td>\n",
       "      <td>0.256887</td>\n",
       "      <td>0.124292</td>\n",
       "      <td>0.069106</td>\n",
       "      <td>0.055919</td>\n",
       "      <td>5.73</td>\n",
       "      <td>3.50</td>\n",
       "      <td>21:46:25.800000</td>\n",
       "      <td>True</td>\n",
       "    </tr>\n",
       "    <tr>\n",
       "      <th>229509</th>\n",
       "      <td>2017-11-06 21:47:25.800</td>\n",
       "      <td>06:22:30.80</td>\n",
       "      <td>0.292051</td>\n",
       "      <td>0.397540</td>\n",
       "      <td>0.323063</td>\n",
       "      <td>0.245166</td>\n",
       "      <td>0.135525</td>\n",
       "      <td>0.119897</td>\n",
       "      <td>6.27</td>\n",
       "      <td>3.84</td>\n",
       "      <td>21:47:25.800000</td>\n",
       "      <td>True</td>\n",
       "    </tr>\n",
       "    <tr>\n",
       "      <th>230299</th>\n",
       "      <td>2017-11-06 21:48:44.800</td>\n",
       "      <td>06:23:49.80</td>\n",
       "      <td>0.353098</td>\n",
       "      <td>0.282527</td>\n",
       "      <td>0.254934</td>\n",
       "      <td>0.178258</td>\n",
       "      <td>0.177282</td>\n",
       "      <td>0.166049</td>\n",
       "      <td>6.25</td>\n",
       "      <td>3.97</td>\n",
       "      <td>21:48:44.800000</td>\n",
       "      <td>True</td>\n",
       "    </tr>\n",
       "    <tr>\n",
       "      <th>233825</th>\n",
       "      <td>2017-11-06 21:54:37.400</td>\n",
       "      <td>06:29:42.40</td>\n",
       "      <td>0.674207</td>\n",
       "      <td>0.964304</td>\n",
       "      <td>0.246387</td>\n",
       "      <td>0.334784</td>\n",
       "      <td>0.253957</td>\n",
       "      <td>0.151642</td>\n",
       "      <td>6.24</td>\n",
       "      <td>3.93</td>\n",
       "      <td>21:54:37.400000</td>\n",
       "      <td>True</td>\n",
       "    </tr>\n",
       "    <tr>\n",
       "      <th>236141</th>\n",
       "      <td>2017-11-06 21:58:29.000</td>\n",
       "      <td>06:33:34.00</td>\n",
       "      <td>0.300841</td>\n",
       "      <td>0.350900</td>\n",
       "      <td>0.299376</td>\n",
       "      <td>0.222457</td>\n",
       "      <td>0.157502</td>\n",
       "      <td>0.189979</td>\n",
       "      <td>6.07</td>\n",
       "      <td>4.44</td>\n",
       "      <td>21:58:29</td>\n",
       "      <td>True</td>\n",
       "    </tr>\n",
       "    <tr>\n",
       "      <th>236926</th>\n",
       "      <td>2017-11-06 21:59:47.500</td>\n",
       "      <td>06:34:52.50</td>\n",
       "      <td>0.481053</td>\n",
       "      <td>0.609008</td>\n",
       "      <td>0.354319</td>\n",
       "      <td>0.290341</td>\n",
       "      <td>0.240771</td>\n",
       "      <td>0.219526</td>\n",
       "      <td>6.15</td>\n",
       "      <td>5.03</td>\n",
       "      <td>21:59:47.500000</td>\n",
       "      <td>True</td>\n",
       "    </tr>\n",
       "    <tr>\n",
       "      <th>237303</th>\n",
       "      <td>2017-11-06 22:00:25.200</td>\n",
       "      <td>06:35:30.20</td>\n",
       "      <td>0.290585</td>\n",
       "      <td>0.320865</td>\n",
       "      <td>0.345772</td>\n",
       "      <td>0.266899</td>\n",
       "      <td>0.179479</td>\n",
       "      <td>0.173619</td>\n",
       "      <td>6.18</td>\n",
       "      <td>4.99</td>\n",
       "      <td>22:00:25.200000</td>\n",
       "      <td>True</td>\n",
       "    </tr>\n",
       "    <tr>\n",
       "      <th>238223</th>\n",
       "      <td>2017-11-06 22:01:57.200</td>\n",
       "      <td>06:37:02.20</td>\n",
       "      <td>0.636358</td>\n",
       "      <td>0.999956</td>\n",
       "      <td>0.302795</td>\n",
       "      <td>0.293760</td>\n",
       "      <td>0.241992</td>\n",
       "      <td>0.153351</td>\n",
       "      <td>6.28</td>\n",
       "      <td>5.02</td>\n",
       "      <td>22:01:57.200000</td>\n",
       "      <td>True</td>\n",
       "    </tr>\n",
       "    <tr>\n",
       "      <th>241055</th>\n",
       "      <td>2017-11-06 22:06:40.400</td>\n",
       "      <td>06:41:45.40</td>\n",
       "      <td>0.393389</td>\n",
       "      <td>0.382156</td>\n",
       "      <td>0.282527</td>\n",
       "      <td>0.230271</td>\n",
       "      <td>0.167514</td>\n",
       "      <td>0.161409</td>\n",
       "      <td>6.27</td>\n",
       "      <td>5.47</td>\n",
       "      <td>22:06:40.400000</td>\n",
       "      <td>True</td>\n",
       "    </tr>\n",
       "    <tr>\n",
       "      <th>247416</th>\n",
       "      <td>2017-11-06 22:17:16.500</td>\n",
       "      <td>06:52:21.50</td>\n",
       "      <td>0.277888</td>\n",
       "      <td>0.302795</td>\n",
       "      <td>0.350168</td>\n",
       "      <td>0.396808</td>\n",
       "      <td>0.233201</td>\n",
       "      <td>0.073989</td>\n",
       "      <td>5.83</td>\n",
       "      <td>4.56</td>\n",
       "      <td>22:17:16.500000</td>\n",
       "      <td>True</td>\n",
       "    </tr>\n",
       "    <tr>\n",
       "      <th>249212</th>\n",
       "      <td>2017-11-06 22:20:16.100</td>\n",
       "      <td>06:55:21.10</td>\n",
       "      <td>0.329900</td>\n",
       "      <td>0.401692</td>\n",
       "      <td>0.292783</td>\n",
       "      <td>0.137479</td>\n",
       "      <td>0.111350</td>\n",
       "      <td>0.082780</td>\n",
       "      <td>5.72</td>\n",
       "      <td>4.57</td>\n",
       "      <td>22:20:16.100000</td>\n",
       "      <td>True</td>\n",
       "    </tr>\n",
       "    <tr>\n",
       "      <th>256838</th>\n",
       "      <td>2017-11-06 22:32:58.700</td>\n",
       "      <td>07:08:03.70</td>\n",
       "      <td>0.278376</td>\n",
       "      <td>0.297911</td>\n",
       "      <td>0.261283</td>\n",
       "      <td>0.219526</td>\n",
       "      <td>0.149688</td>\n",
       "      <td>0.157014</td>\n",
       "      <td>6.21</td>\n",
       "      <td>4.48</td>\n",
       "      <td>22:32:58.700000</td>\n",
       "      <td>True</td>\n",
       "    </tr>\n",
       "    <tr>\n",
       "      <th>257717</th>\n",
       "      <td>2017-11-06 22:34:26.600</td>\n",
       "      <td>07:09:31.60</td>\n",
       "      <td>0.219526</td>\n",
       "      <td>0.274957</td>\n",
       "      <td>0.250538</td>\n",
       "      <td>0.138944</td>\n",
       "      <td>0.127223</td>\n",
       "      <td>0.095966</td>\n",
       "      <td>6.10</td>\n",
       "      <td>4.75</td>\n",
       "      <td>22:34:26.600000</td>\n",
       "      <td>True</td>\n",
       "    </tr>\n",
       "    <tr>\n",
       "      <th>259098</th>\n",
       "      <td>2017-11-06 22:36:44.700</td>\n",
       "      <td>07:11:49.70</td>\n",
       "      <td>0.299865</td>\n",
       "      <td>0.247364</td>\n",
       "      <td>0.197061</td>\n",
       "      <td>0.100118</td>\n",
       "      <td>0.063001</td>\n",
       "      <td>0.054698</td>\n",
       "      <td>3.89</td>\n",
       "      <td>4.69</td>\n",
       "      <td>22:36:44.700000</td>\n",
       "      <td>True</td>\n",
       "    </tr>\n",
       "    <tr>\n",
       "      <th>272599</th>\n",
       "      <td>2017-11-06 22:59:14.800</td>\n",
       "      <td>07:34:19.80</td>\n",
       "      <td>0.257620</td>\n",
       "      <td>0.196084</td>\n",
       "      <td>0.293272</td>\n",
       "      <td>0.236131</td>\n",
       "      <td>0.246143</td>\n",
       "      <td>0.259329</td>\n",
       "      <td>6.64</td>\n",
       "      <td>5.18</td>\n",
       "      <td>22:59:14.800000</td>\n",
       "      <td>True</td>\n",
       "    </tr>\n",
       "    <tr>\n",
       "      <th>609806</th>\n",
       "      <td>2017-11-07 08:21:15.500</td>\n",
       "      <td>16:56:20.50</td>\n",
       "      <td>0.264213</td>\n",
       "      <td>0.389482</td>\n",
       "      <td>0.474216</td>\n",
       "      <td>0.413413</td>\n",
       "      <td>0.158479</td>\n",
       "      <td>0.207317</td>\n",
       "      <td>6.09</td>\n",
       "      <td>4.35</td>\n",
       "      <td>08:21:15.500000</td>\n",
       "      <td>True</td>\n",
       "    </tr>\n",
       "    <tr>\n",
       "      <th>762596</th>\n",
       "      <td>2017-11-07 12:35:54.500</td>\n",
       "      <td>21:10:59.50</td>\n",
       "      <td>0.432460</td>\n",
       "      <td>0.238573</td>\n",
       "      <td>0.185096</td>\n",
       "      <td>0.162874</td>\n",
       "      <td>0.153107</td>\n",
       "      <td>0.210247</td>\n",
       "      <td>5.82</td>\n",
       "      <td>0.86</td>\n",
       "      <td>12:35:54.500000</td>\n",
       "      <td>True</td>\n",
       "    </tr>\n",
       "    <tr>\n",
       "      <th>794294</th>\n",
       "      <td>2017-11-07 13:28:44.300</td>\n",
       "      <td>22:03:49.30</td>\n",
       "      <td>0.298155</td>\n",
       "      <td>0.355540</td>\n",
       "      <td>0.359935</td>\n",
       "      <td>0.502542</td>\n",
       "      <td>0.381668</td>\n",
       "      <td>0.224410</td>\n",
       "      <td>6.45</td>\n",
       "      <td>1.33</td>\n",
       "      <td>13:28:44.300000</td>\n",
       "      <td>True</td>\n",
       "    </tr>\n",
       "    <tr>\n",
       "      <th>794799</th>\n",
       "      <td>2017-11-07 13:29:34.800</td>\n",
       "      <td>22:04:39.80</td>\n",
       "      <td>0.999956</td>\n",
       "      <td>0.999956</td>\n",
       "      <td>0.397052</td>\n",
       "      <td>0.429529</td>\n",
       "      <td>0.282283</td>\n",
       "      <td>0.185584</td>\n",
       "      <td>6.51</td>\n",
       "      <td>1.56</td>\n",
       "      <td>13:29:34.800000</td>\n",
       "      <td>True</td>\n",
       "    </tr>\n",
       "    <tr>\n",
       "      <th>795730</th>\n",
       "      <td>2017-11-07 13:31:07.900</td>\n",
       "      <td>22:06:12.90</td>\n",
       "      <td>0.430506</td>\n",
       "      <td>0.379715</td>\n",
       "      <td>0.452483</td>\n",
       "      <td>0.348458</td>\n",
       "      <td>0.158479</td>\n",
       "      <td>0.132595</td>\n",
       "      <td>6.44</td>\n",
       "      <td>1.53</td>\n",
       "      <td>13:31:07.900000</td>\n",
       "      <td>True</td>\n",
       "    </tr>\n",
       "    <tr>\n",
       "      <th>796106</th>\n",
       "      <td>2017-11-07 13:31:45.500</td>\n",
       "      <td>22:06:50.50</td>\n",
       "      <td>0.150665</td>\n",
       "      <td>0.121118</td>\n",
       "      <td>0.999956</td>\n",
       "      <td>0.999956</td>\n",
       "      <td>0.866873</td>\n",
       "      <td>0.207073</td>\n",
       "      <td>6.69</td>\n",
       "      <td>1.40</td>\n",
       "      <td>13:31:45.500000</td>\n",
       "      <td>True</td>\n",
       "    </tr>\n",
       "  </tbody>\n",
       "</table>\n",
       "</div>"
      ],
      "text/plain": [
       "                          Time  ElapsedTime  Channel_1  Channel_2  Channel_3  \\\n",
       "345    2017-11-06 15:25:29.500  00:00:34.50   0.418052   0.422936   0.169712   \n",
       "2541   2017-11-06 15:29:09.100  00:04:14.10   0.244434   0.284725   0.135281   \n",
       "97364  2017-11-06 18:07:11.400  02:42:16.40   0.912536   0.875175   0.935001   \n",
       "99075  2017-11-06 18:10:02.500  02:45:07.50   0.179235   0.228073   0.173130   \n",
       "142284 2017-11-06 19:22:03.400  03:57:08.40   0.182898   0.253224   0.120141   \n",
       "188798 2017-11-06 20:39:34.800  05:14:39.80   0.461030   0.432460   0.328191   \n",
       "216228 2017-11-06 21:25:17.800  06:00:22.80   0.307923   0.441495   0.069594   \n",
       "225601 2017-11-06 21:40:55.100  06:16:00.10   0.347237   0.451750   0.298155   \n",
       "227396 2017-11-06 21:43:54.500  06:18:59.50   0.326237   0.325016   0.288144   \n",
       "227849 2017-11-06 21:44:39.800  06:19:44.80   0.193154   0.328679   0.476414   \n",
       "227953 2017-11-06 21:44:50.200  06:19:55.20   0.276422   0.153595   0.999956   \n",
       "228909 2017-11-06 21:46:25.800  06:21:30.80   0.320377   0.393633   0.256887   \n",
       "229509 2017-11-06 21:47:25.800  06:22:30.80   0.292051   0.397540   0.323063   \n",
       "230299 2017-11-06 21:48:44.800  06:23:49.80   0.353098   0.282527   0.254934   \n",
       "233825 2017-11-06 21:54:37.400  06:29:42.40   0.674207   0.964304   0.246387   \n",
       "236141 2017-11-06 21:58:29.000  06:33:34.00   0.300841   0.350900   0.299376   \n",
       "236926 2017-11-06 21:59:47.500  06:34:52.50   0.481053   0.609008   0.354319   \n",
       "237303 2017-11-06 22:00:25.200  06:35:30.20   0.290585   0.320865   0.345772   \n",
       "238223 2017-11-06 22:01:57.200  06:37:02.20   0.636358   0.999956   0.302795   \n",
       "241055 2017-11-06 22:06:40.400  06:41:45.40   0.393389   0.382156   0.282527   \n",
       "247416 2017-11-06 22:17:16.500  06:52:21.50   0.277888   0.302795   0.350168   \n",
       "249212 2017-11-06 22:20:16.100  06:55:21.10   0.329900   0.401692   0.292783   \n",
       "256838 2017-11-06 22:32:58.700  07:08:03.70   0.278376   0.297911   0.261283   \n",
       "257717 2017-11-06 22:34:26.600  07:09:31.60   0.219526   0.274957   0.250538   \n",
       "259098 2017-11-06 22:36:44.700  07:11:49.70   0.299865   0.247364   0.197061   \n",
       "272599 2017-11-06 22:59:14.800  07:34:19.80   0.257620   0.196084   0.293272   \n",
       "609806 2017-11-07 08:21:15.500  16:56:20.50   0.264213   0.389482   0.474216   \n",
       "762596 2017-11-07 12:35:54.500  21:10:59.50   0.432460   0.238573   0.185096   \n",
       "794294 2017-11-07 13:28:44.300  22:03:49.30   0.298155   0.355540   0.359935   \n",
       "794799 2017-11-07 13:29:34.800  22:04:39.80   0.999956   0.999956   0.397052   \n",
       "795730 2017-11-07 13:31:07.900  22:06:12.90   0.430506   0.379715   0.452483   \n",
       "796106 2017-11-07 13:31:45.500  22:06:50.50   0.150665   0.121118   0.999956   \n",
       "\n",
       "        Channel_4  Channel_5  Channel_6  Channel_7  Channel_8  \\\n",
       "345      0.149688   0.133572   0.115013       6.89       5.14   \n",
       "2541     0.110862   0.094257   0.116967       6.77       1.99   \n",
       "97364    0.387284   0.351389   0.999956       4.47       5.75   \n",
       "99075    0.121851   0.129420   0.100606       6.18       5.57   \n",
       "142284   0.056408   0.048350   0.045419       3.33       4.07   \n",
       "188798   0.252736   0.157258   0.098653       6.00       4.40   \n",
       "216228   0.048105   0.045663   0.052257       6.29       4.02   \n",
       "225601   0.201945   0.260306   0.224654       6.08       3.49   \n",
       "227396   0.427087   0.336737   0.140165       6.32       4.06   \n",
       "227849   0.364331   0.235399   0.147002       6.34       3.74   \n",
       "227953   0.999956   0.999956   0.339179       6.18       4.51   \n",
       "228909   0.124292   0.069106   0.055919       5.73       3.50   \n",
       "229509   0.245166   0.135525   0.119897       6.27       3.84   \n",
       "230299   0.178258   0.177282   0.166049       6.25       3.97   \n",
       "233825   0.334784   0.253957   0.151642       6.24       3.93   \n",
       "236141   0.222457   0.157502   0.189979       6.07       4.44   \n",
       "236926   0.290341   0.240771   0.219526       6.15       5.03   \n",
       "237303   0.266899   0.179479   0.173619       6.18       4.99   \n",
       "238223   0.293760   0.241992   0.153351       6.28       5.02   \n",
       "241055   0.230271   0.167514   0.161409       6.27       5.47   \n",
       "247416   0.396808   0.233201   0.073989       5.83       4.56   \n",
       "249212   0.137479   0.111350   0.082780       5.72       4.57   \n",
       "256838   0.219526   0.149688   0.157014       6.21       4.48   \n",
       "257717   0.138944   0.127223   0.095966       6.10       4.75   \n",
       "259098   0.100118   0.063001   0.054698       3.89       4.69   \n",
       "272599   0.236131   0.246143   0.259329       6.64       5.18   \n",
       "609806   0.413413   0.158479   0.207317       6.09       4.35   \n",
       "762596   0.162874   0.153107   0.210247       5.82       0.86   \n",
       "794294   0.502542   0.381668   0.224410       6.45       1.33   \n",
       "794799   0.429529   0.282283   0.185584       6.51       1.56   \n",
       "795730   0.348458   0.158479   0.132595       6.44       1.53   \n",
       "796106   0.999956   0.866873   0.207073       6.69       1.40   \n",
       "\n",
       "           CapturedTime   sgb  \n",
       "345     15:25:29.500000  True  \n",
       "2541    15:29:09.100000  True  \n",
       "97364   18:07:11.400000  True  \n",
       "99075   18:10:02.500000  True  \n",
       "142284  19:22:03.400000  True  \n",
       "188798  20:39:34.800000  True  \n",
       "216228  21:25:17.800000  True  \n",
       "225601  21:40:55.100000  True  \n",
       "227396  21:43:54.500000  True  \n",
       "227849  21:44:39.800000  True  \n",
       "227953  21:44:50.200000  True  \n",
       "228909  21:46:25.800000  True  \n",
       "229509  21:47:25.800000  True  \n",
       "230299  21:48:44.800000  True  \n",
       "233825  21:54:37.400000  True  \n",
       "236141         21:58:29  True  \n",
       "236926  21:59:47.500000  True  \n",
       "237303  22:00:25.200000  True  \n",
       "238223  22:01:57.200000  True  \n",
       "241055  22:06:40.400000  True  \n",
       "247416  22:17:16.500000  True  \n",
       "249212  22:20:16.100000  True  \n",
       "256838  22:32:58.700000  True  \n",
       "257717  22:34:26.600000  True  \n",
       "259098  22:36:44.700000  True  \n",
       "272599  22:59:14.800000  True  \n",
       "609806  08:21:15.500000  True  \n",
       "762596  12:35:54.500000  True  \n",
       "794294  13:28:44.300000  True  \n",
       "794799  13:29:34.800000  True  \n",
       "795730  13:31:07.900000  True  \n",
       "796106  13:31:45.500000  True  "
      ]
     },
     "execution_count": 58,
     "metadata": {},
     "output_type": "execute_result"
    }
   ],
   "source": [
    "readings.loc[false_negatives]"
   ]
  }
 ],
 "metadata": {
  "kernelspec": {
   "display_name": "Python 3",
   "language": "python",
   "name": "python3"
  },
  "language_info": {
   "codemirror_mode": {
    "name": "ipython",
    "version": 3
   },
   "file_extension": ".py",
   "mimetype": "text/x-python",
   "name": "python",
   "nbconvert_exporter": "python",
   "pygments_lexer": "ipython3",
   "version": "3.7.9"
  }
 },
 "nbformat": 4,
 "nbformat_minor": 5
}
