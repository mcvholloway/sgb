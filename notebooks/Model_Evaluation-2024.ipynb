{
 "cells": [
  {
   "cell_type": "code",
   "execution_count": 1,
   "id": "befcbd93",
   "metadata": {},
   "outputs": [
    {
     "name": "stderr",
     "output_type": "stream",
     "text": [
      "/home/michael/anaconda3/envs/keras/lib/python3.7/site-packages/tensorflow/python/framework/dtypes.py:516: FutureWarning: Passing (type, 1) or '1type' as a synonym of type is deprecated; in a future version of numpy, it will be understood as (type, (1,)) / '(1,)type'.\n",
      "  _np_qint8 = np.dtype([(\"qint8\", np.int8, 1)])\n",
      "/home/michael/anaconda3/envs/keras/lib/python3.7/site-packages/tensorflow/python/framework/dtypes.py:517: FutureWarning: Passing (type, 1) or '1type' as a synonym of type is deprecated; in a future version of numpy, it will be understood as (type, (1,)) / '(1,)type'.\n",
      "  _np_quint8 = np.dtype([(\"quint8\", np.uint8, 1)])\n",
      "/home/michael/anaconda3/envs/keras/lib/python3.7/site-packages/tensorflow/python/framework/dtypes.py:518: FutureWarning: Passing (type, 1) or '1type' as a synonym of type is deprecated; in a future version of numpy, it will be understood as (type, (1,)) / '(1,)type'.\n",
      "  _np_qint16 = np.dtype([(\"qint16\", np.int16, 1)])\n",
      "/home/michael/anaconda3/envs/keras/lib/python3.7/site-packages/tensorflow/python/framework/dtypes.py:519: FutureWarning: Passing (type, 1) or '1type' as a synonym of type is deprecated; in a future version of numpy, it will be understood as (type, (1,)) / '(1,)type'.\n",
      "  _np_quint16 = np.dtype([(\"quint16\", np.uint16, 1)])\n",
      "/home/michael/anaconda3/envs/keras/lib/python3.7/site-packages/tensorflow/python/framework/dtypes.py:520: FutureWarning: Passing (type, 1) or '1type' as a synonym of type is deprecated; in a future version of numpy, it will be understood as (type, (1,)) / '(1,)type'.\n",
      "  _np_qint32 = np.dtype([(\"qint32\", np.int32, 1)])\n",
      "/home/michael/anaconda3/envs/keras/lib/python3.7/site-packages/tensorflow/python/framework/dtypes.py:525: FutureWarning: Passing (type, 1) or '1type' as a synonym of type is deprecated; in a future version of numpy, it will be understood as (type, (1,)) / '(1,)type'.\n",
      "  np_resource = np.dtype([(\"resource\", np.ubyte, 1)])\n",
      "/home/michael/anaconda3/envs/keras/lib/python3.7/site-packages/tensorboard/compat/tensorflow_stub/dtypes.py:541: FutureWarning: Passing (type, 1) or '1type' as a synonym of type is deprecated; in a future version of numpy, it will be understood as (type, (1,)) / '(1,)type'.\n",
      "  _np_qint8 = np.dtype([(\"qint8\", np.int8, 1)])\n",
      "/home/michael/anaconda3/envs/keras/lib/python3.7/site-packages/tensorboard/compat/tensorflow_stub/dtypes.py:542: FutureWarning: Passing (type, 1) or '1type' as a synonym of type is deprecated; in a future version of numpy, it will be understood as (type, (1,)) / '(1,)type'.\n",
      "  _np_quint8 = np.dtype([(\"quint8\", np.uint8, 1)])\n",
      "/home/michael/anaconda3/envs/keras/lib/python3.7/site-packages/tensorboard/compat/tensorflow_stub/dtypes.py:543: FutureWarning: Passing (type, 1) or '1type' as a synonym of type is deprecated; in a future version of numpy, it will be understood as (type, (1,)) / '(1,)type'.\n",
      "  _np_qint16 = np.dtype([(\"qint16\", np.int16, 1)])\n",
      "/home/michael/anaconda3/envs/keras/lib/python3.7/site-packages/tensorboard/compat/tensorflow_stub/dtypes.py:544: FutureWarning: Passing (type, 1) or '1type' as a synonym of type is deprecated; in a future version of numpy, it will be understood as (type, (1,)) / '(1,)type'.\n",
      "  _np_quint16 = np.dtype([(\"quint16\", np.uint16, 1)])\n",
      "/home/michael/anaconda3/envs/keras/lib/python3.7/site-packages/tensorboard/compat/tensorflow_stub/dtypes.py:545: FutureWarning: Passing (type, 1) or '1type' as a synonym of type is deprecated; in a future version of numpy, it will be understood as (type, (1,)) / '(1,)type'.\n",
      "  _np_qint32 = np.dtype([(\"qint32\", np.int32, 1)])\n",
      "/home/michael/anaconda3/envs/keras/lib/python3.7/site-packages/tensorboard/compat/tensorflow_stub/dtypes.py:550: FutureWarning: Passing (type, 1) or '1type' as a synonym of type is deprecated; in a future version of numpy, it will be understood as (type, (1,)) / '(1,)type'.\n",
      "  np_resource = np.dtype([(\"resource\", np.ubyte, 1)])\n"
     ]
    }
   ],
   "source": [
    "import pandas as pd\n",
    "import matplotlib.pyplot as plt\n",
    "import numpy as np\n",
    "from tqdm.notebook import tqdm\n",
    "from imblearn.over_sampling import RandomOverSampler\n",
    "\n",
    "import tensorflow as tf\n",
    "from tensorflow.keras import datasets, layers, models\n",
    "from sklearn.model_selection import train_test_split\n",
    "from sklearn.metrics import accuracy_score, classification_report, roc_auc_score, confusion_matrix, roc_curve\n",
    "\n",
    "from matplotlib.dates import DateFormatter\n",
    "dateformat = DateFormatter(fmt = '%H:%M:%S:%f')"
   ]
  },
  {
   "cell_type": "code",
   "execution_count": 2,
   "id": "objective-recall",
   "metadata": {},
   "outputs": [
    {
     "name": "stdout",
     "output_type": "stream",
     "text": [
      "WARNING:tensorflow:From /home/michael/anaconda3/envs/keras/lib/python3.7/site-packages/tensorflow/python/ops/init_ops.py:97: calling GlorotUniform.__init__ (from tensorflow.python.ops.init_ops) with dtype is deprecated and will be removed in a future version.\n",
      "Instructions for updating:\n",
      "Call initializer instance with the dtype argument instead of passing it to the constructor\n",
      "WARNING:tensorflow:From /home/michael/anaconda3/envs/keras/lib/python3.7/site-packages/tensorflow/python/ops/init_ops.py:1251: calling VarianceScaling.__init__ (from tensorflow.python.ops.init_ops) with dtype is deprecated and will be removed in a future version.\n",
      "Instructions for updating:\n",
      "Call initializer instance with the dtype argument instead of passing it to the constructor\n",
      "WARNING:tensorflow:From /home/michael/anaconda3/envs/keras/lib/python3.7/site-packages/tensorflow/python/ops/init_ops.py:97: calling Zeros.__init__ (from tensorflow.python.ops.init_ops) with dtype is deprecated and will be removed in a future version.\n",
      "Instructions for updating:\n",
      "Call initializer instance with the dtype argument instead of passing it to the constructor\n",
      "WARNING:tensorflow:From /home/michael/anaconda3/envs/keras/lib/python3.7/site-packages/tensorflow/python/ops/nn_impl.py:180: add_dispatch_support.<locals>.wrapper (from tensorflow.python.ops.array_ops) is deprecated and will be removed in a future version.\n",
      "Instructions for updating:\n",
      "Use tf.where in 2.0, which has the same broadcast rule as np.where\n"
     ]
    }
   ],
   "source": [
    "model = tf.keras.models.load_model(\"../models/2024_11_28_model\")"
   ]
  },
  {
   "cell_type": "code",
   "execution_count": 3,
   "id": "developing-postcard",
   "metadata": {},
   "outputs": [],
   "source": [
    "def import_training_data(patient_num):\n",
    "    \n",
    "    # First, get the labels\n",
    "    labels = pd.read_csv(f'../data/new_2024/formatted/labels_{patient_num}.csv')\n",
    "    sgb = labels['labels'].tolist()\n",
    "        \n",
    "    # Then the raw data\n",
    "    readings = pd.read_csv(f'../data/new_data/eval_data/{patient_num} RAW 00.csv')\n",
    "    readings['Time'] = pd.to_datetime(readings['Time'])\n",
    "    readings['CapturedTime'] = readings['Time'].dt.time\n",
    "    \n",
    "    # Then remove the meal times\n",
    "    events = pd.read_csv(f'../data/new_data/eval_data/{patient_num} EVT 00.csv')\n",
    "    events = events[events['EventName'] == 'Meal']\n",
    "    events['Time'] = pd.to_datetime(events['Time'])\n",
    "    events['Duration'] = pd.to_timedelta(events['Duration'])\n",
    "    events = events.assign(End = events['Time'] + events['Duration'])\n",
    "    for idx, row in events.iterrows():\n",
    "        readings = readings[(readings['Time'] < row['Time']) | (readings['Time'] > row['End'])]\n",
    "    \n",
    "    return sgb, readings"
   ]
  },
  {
   "cell_type": "code",
   "execution_count": 224,
   "id": "entertaining-reggae",
   "metadata": {},
   "outputs": [],
   "source": [
    "def import_data(patient_num):\n",
    "\n",
    "    # First, get the labels\n",
    "    labels = pd.read_csv(f'../data/new_2024/centered/centered_{patient_num}.csv')\n",
    "\n",
    "    #others = pd.read_csv(f'../data/centering/double_check/reviewed/dc_{patient_num}.csv')\n",
    "    #others['Review'] = others['Review'].str.strip()\n",
    "    #others = others[others['Review'] == 'Yes']\n",
    "\n",
    "    #sgb_times = pd.concat([labels[['Time']], others[['Time']]])\n",
    "    sgb_times = labels[['Time']]\n",
    "    sgb_times['Time'] = pd.to_datetime(sgb_times['Time'])\n",
    "    sgb_times['sgb'] = True\n",
    "\n",
    "    # Then the raw data\n",
    "    readings = pd.read_csv(f'../data/new_data/eval_data/{patient_num} RAW 00.csv')\n",
    "    readings['Time'] = pd.to_datetime(readings['Time'])\n",
    "    readings['CapturedTime'] = readings['Time'].dt.time\n",
    "\n",
    "    # Combine them to label the events times\n",
    "    readings = pd.merge(left = readings,\n",
    "             right = sgb_times[['Time', 'sgb']],\n",
    "            how = 'outer').fillna('False')\n",
    "    \n",
    "    # Then remove the meal times\n",
    "    events = pd.read_csv(f'../data/new_data/eval_data/{patient_num} EVT 00.csv')\n",
    "    events = events[events['EventName'] == 'Meal']\n",
    "    events['Time'] = pd.to_datetime(events['Time'])\n",
    "    events['Duration'] = pd.to_timedelta(events['Duration'])\n",
    "    events = events.assign(End = events['Time'] + events['Duration'])\n",
    "    for idx, row in events.iterrows():\n",
    "        readings = readings[(readings['Time'] < row['Time']) | (readings['Time'] > row['End'])]\n",
    "        \n",
    "    # Normalize the readings to be between 0 and 1\n",
    "    for channel in ['Channel_1', 'Channel_2', 'Channel_3',\n",
    "           'Channel_4', 'Channel_5', 'Channel_6']:\n",
    "        readings[channel] = readings[channel] / 10000    \n",
    "    return readings"
   ]
  },
  {
   "cell_type": "code",
   "execution_count": 225,
   "id": "reflected-least",
   "metadata": {},
   "outputs": [
    {
     "name": "stderr",
     "output_type": "stream",
     "text": [
      "/home/michael/anaconda3/envs/keras/lib/python3.7/site-packages/ipykernel_launcher.py:12: SettingWithCopyWarning: \n",
      "A value is trying to be set on a copy of a slice from a DataFrame.\n",
      "Try using .loc[row_indexer,col_indexer] = value instead\n",
      "\n",
      "See the caveats in the documentation: https://pandas.pydata.org/pandas-docs/stable/user_guide/indexing.html#returning-a-view-versus-a-copy\n",
      "  if sys.path[0] == '':\n"
     ]
    }
   ],
   "source": [
    "patient_num = '93'\n",
    "readings = import_data(patient_num)"
   ]
  },
  {
   "cell_type": "code",
   "execution_count": 226,
   "id": "martial-disability",
   "metadata": {},
   "outputs": [
    {
     "data": {
      "application/vnd.jupyter.widget-view+json": {
       "model_id": "82694c2234664c93a3225c86020b8b79",
       "version_major": 2,
       "version_minor": 0
      },
      "text/plain": [
       "  0%|          | 0/772241 [00:00<?, ?it/s]"
      ]
     },
     "metadata": {},
     "output_type": "display_data"
    }
   ],
   "source": [
    "X_test = []\n",
    "test_indices = []\n",
    "\n",
    "for idx in tqdm(readings.index.tolist()):\n",
    "    offset = 0\n",
    "    duration = 20\n",
    "\n",
    "    idx = idx - offset\n",
    "\n",
    "    readings_sub = readings.loc[idx:idx + duration - 1][['Channel_' + str(j) for j in range(1,7)]].values\n",
    "    if readings_sub.shape == (duration, 6) and np.abs(np.diff(readings_sub, axis = 0)).sum() > 1:\n",
    "        X_test.append(readings_sub)\n",
    "        test_indices.append(idx)"
   ]
  },
  {
   "cell_type": "code",
   "execution_count": 227,
   "id": "technological-swiss",
   "metadata": {},
   "outputs": [],
   "source": [
    "predictions = model.predict(\n",
    "    np.array(X_test).reshape(\n",
    "        len(X_test), \n",
    "        X_test[0].shape[0], \n",
    "        6, \n",
    "        1\n",
    "    )\n",
    ")"
   ]
  },
  {
   "cell_type": "code",
   "execution_count": 228,
   "id": "cardiovascular-baptist",
   "metadata": {},
   "outputs": [],
   "source": [
    "def plot_event(idx, duration = 50, shift = 15, filepath = None):\n",
    "    readings_sub = (\n",
    "        readings\n",
    "        .loc[idx - shift:idx - shift + duration - 1]\n",
    "        [['Channel_' + str(i) for i in range(1,7)]]\n",
    "        .values\n",
    "    ) * 10000\n",
    "\n",
    "    fig, ax = plt.subplots(figsize = (12,6))\n",
    "\n",
    "    times = readings.loc[idx - shift:idx - shift + duration - 1, 'Time']\n",
    "\n",
    "    for i in range(6):\n",
    "        plt.plot(times, readings_sub[:, i], label = 'Channel_' + str(i + 1))\n",
    "\n",
    "    plt.ylim(-100, 10300)\n",
    "        \n",
    "    ax.xaxis.set_major_formatter(dateformat)\n",
    "\n",
    "    plt.legend(bbox_to_anchor = (1, 0.5), loc = 'center left')\n",
    "    \n",
    "    if filepath:\n",
    "        plt.tight_layout()\n",
    "        plt.savefig(filepath, \n",
    "                    dpi = 150, \n",
    "                    transparent = False, \n",
    "                    facecolor = 'white')\n",
    "        \n",
    "        plt.close();"
   ]
  },
  {
   "cell_type": "code",
   "execution_count": 229,
   "id": "virtual-shame",
   "metadata": {},
   "outputs": [
    {
     "data": {
      "application/vnd.jupyter.widget-view+json": {
       "model_id": "5f89f94e62714c7a85e3c2d4a0b4b70c",
       "version_major": 2,
       "version_minor": 0
      },
      "text/plain": [
       "  0%|          | 0/98 [00:00<?, ?it/s]"
      ]
     },
     "metadata": {},
     "output_type": "display_data"
    }
   ],
   "source": [
    "prediction_indices = [test_indices[x] for x in np.where(predictions.flatten() > 0.5)[0]]\n",
    "\n",
    "true_indices = readings[readings['sgb'] == True].index.tolist()\n",
    "\n",
    "true_positives = []\n",
    "false_positives = []\n",
    "for idx in tqdm(prediction_indices):\n",
    "    fp = True\n",
    "    for i in range(15):\n",
    "        if idx - i in true_indices:\n",
    "            true_positives.append(idx - i)\n",
    "            fp = False\n",
    "            continue\n",
    "        if idx + i in true_indices:\n",
    "            true_positives.append(idx + i)\n",
    "            fp = False\n",
    "            continue\n",
    "    if fp:\n",
    "        false_positives.append(idx)\n",
    "        \n",
    "true_positives = set(true_positives)"
   ]
  },
  {
   "cell_type": "code",
   "execution_count": 230,
   "id": "armed-recognition",
   "metadata": {},
   "outputs": [
    {
     "data": {
      "text/plain": [
       "1"
      ]
     },
     "execution_count": 230,
     "metadata": {},
     "output_type": "execute_result"
    }
   ],
   "source": [
    "len(true_positives)"
   ]
  },
  {
   "cell_type": "code",
   "execution_count": 231,
   "id": "charming-boston",
   "metadata": {},
   "outputs": [
    {
     "data": {
      "text/plain": [
       "1"
      ]
     },
     "execution_count": 231,
     "metadata": {},
     "output_type": "execute_result"
    }
   ],
   "source": [
    "len(true_indices)"
   ]
  },
  {
   "cell_type": "code",
   "execution_count": 232,
   "id": "refined-length",
   "metadata": {},
   "outputs": [
    {
     "data": {
      "text/plain": [
       "98"
      ]
     },
     "execution_count": 232,
     "metadata": {},
     "output_type": "execute_result"
    }
   ],
   "source": [
    "len(prediction_indices)"
   ]
  },
  {
   "cell_type": "code",
   "execution_count": 233,
   "id": "american-grove",
   "metadata": {},
   "outputs": [
    {
     "data": {
      "text/plain": [
       "92"
      ]
     },
     "execution_count": 233,
     "metadata": {},
     "output_type": "execute_result"
    }
   ],
   "source": [
    "len(false_positives)"
   ]
  },
  {
   "cell_type": "code",
   "execution_count": 234,
   "id": "frequent-processor",
   "metadata": {},
   "outputs": [],
   "source": [
    "false_positives = pd.DataFrame({'fp_index': false_positives})\n",
    "\n",
    "false_positives['diff'] = false_positives['fp_index'].diff()\n",
    "\n",
    "false_positives = false_positives[~(false_positives['diff'].isin([1, 2, 3, 4, 5]))]"
   ]
  },
  {
   "cell_type": "code",
   "execution_count": 235,
   "id": "equal-environment",
   "metadata": {},
   "outputs": [
    {
     "data": {
      "text/plain": [
       "32"
      ]
     },
     "execution_count": 235,
     "metadata": {},
     "output_type": "execute_result"
    }
   ],
   "source": [
    "len(false_positives)"
   ]
  },
  {
   "cell_type": "code",
   "execution_count": 236,
   "id": "green-civilian",
   "metadata": {
    "scrolled": true
   },
   "outputs": [],
   "source": [
    "for i, fp in enumerate(false_positives['fp_index'].to_list()):\n",
    "    plot_event(fp, filepath=f'../eval_results/images_{patient_num}/fp/fp_{str(i).zfill(3)}.png')"
   ]
  },
  {
   "cell_type": "code",
   "execution_count": 237,
   "id": "expired-institute",
   "metadata": {},
   "outputs": [],
   "source": [
    "fp_df = false_positives[['fp_index']]\n",
    "fp_df['patient_num'] = patient_num\n",
    "fp_df = fp_df.reset_index(drop = True)\n",
    "fp_df = fp_df.reset_index()\n",
    "fp_df['image_number'] = 'fp_' + fp_df['index'].astype('string').str.zfill(3)\n",
    "fp_df['timestamp'] = readings.loc[fp_df['fp_index'].tolist(), 'Time'].tolist()\n",
    "fp_df = fp_df[['patient_num', 'image_number', 'timestamp']]\n",
    "fp_df.to_csv(f'../eval_results/images_{patient_num}/fp.csv', index = False)"
   ]
  },
  {
   "cell_type": "code",
   "execution_count": 238,
   "id": "corrected-bride",
   "metadata": {},
   "outputs": [],
   "source": [
    "false_negatives = [x for x in true_indices if x not in true_positives]"
   ]
  },
  {
   "cell_type": "code",
   "execution_count": 239,
   "id": "radio-cleaner",
   "metadata": {},
   "outputs": [],
   "source": [
    "for i, fp in enumerate(false_negatives):\n",
    "    plot_event(fp, filepath=f'../eval_results/images_{patient_num}/fn/fn_{str(i).zfill(3)}.png')"
   ]
  },
  {
   "cell_type": "code",
   "execution_count": 240,
   "id": "consolidated-raising",
   "metadata": {},
   "outputs": [],
   "source": [
    "fn_df = pd.DataFrame({'fp_index': false_negatives})\n",
    "fn_df['patient_num'] = patient_num\n",
    "fn_df = fn_df.reset_index(drop = True)\n",
    "fn_df = fn_df.reset_index()\n",
    "fn_df['image_number'] = 'fn_' + fn_df['index'].astype('string').str.zfill(3)\n",
    "fn_df['timestamp'] = readings.loc[fn_df['fp_index'].tolist(), 'Time'].tolist()\n",
    "fn_df = fn_df[['patient_num', 'image_number', 'timestamp']]\n",
    "fn_df.to_csv(f'../eval_results/images_{patient_num}/fn.csv', index = False)"
   ]
  },
  {
   "cell_type": "code",
   "execution_count": 241,
   "id": "basic-election",
   "metadata": {},
   "outputs": [],
   "source": [
    "# readings.loc[false_positives['fp_index'], ['Time']].to_csv(f'../data/new_data/images/images_{patient_num}/fp_{patient_num}.csv', index = False)\n",
    "# readings.loc[false_negatives, ['Time']].to_csv(f'../data/new_data/images/images_{patient_num}/fn_{patient_num}.csv', index = False)"
   ]
  },
  {
   "cell_type": "code",
   "execution_count": 242,
   "id": "strange-davis",
   "metadata": {},
   "outputs": [],
   "source": [
    "# readings.loc[false_negatives]"
   ]
  }
 ],
 "metadata": {
  "kernelspec": {
   "display_name": "Python 3",
   "language": "python",
   "name": "python3"
  },
  "language_info": {
   "codemirror_mode": {
    "name": "ipython",
    "version": 3
   },
   "file_extension": ".py",
   "mimetype": "text/x-python",
   "name": "python",
   "nbconvert_exporter": "python",
   "pygments_lexer": "ipython3",
   "version": "3.7.9"
  }
 },
 "nbformat": 4,
 "nbformat_minor": 5
}
