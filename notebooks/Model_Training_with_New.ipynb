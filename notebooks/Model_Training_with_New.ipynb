{
 "cells": [
  {
   "cell_type": "code",
   "execution_count": 2,
   "id": "befcbd93",
   "metadata": {},
   "outputs": [],
   "source": [
    "import pandas as pd\n",
    "import matplotlib.pyplot as plt\n",
    "import numpy as np\n",
    "from tqdm.notebook import tqdm\n",
    "from imblearn.over_sampling import RandomOverSampler\n",
    "\n",
    "import tensorflow as tf\n",
    "from tensorflow.keras import datasets, layers, models\n",
    "from sklearn.model_selection import train_test_split\n",
    "from sklearn.metrics import accuracy_score, classification_report, roc_auc_score, confusion_matrix, roc_curve\n",
    "\n",
    "import glob\n",
    "\n",
    "from matplotlib.dates import DateFormatter\n",
    "dateformat = DateFormatter(fmt = '%H:%M:%S:%f')"
   ]
  },
  {
   "cell_type": "code",
   "execution_count": 46,
   "id": "c313dc83",
   "metadata": {},
   "outputs": [],
   "source": [
    "def import_data(patient_num):\n",
    "\n",
    "    # First, get the labels\n",
    "    labels = pd.read_csv(f'../data/centered/original/centered_{patient_num}.csv')\n",
    "\n",
    "    others = pd.read_csv(f'../data/centered/reviewed/dc_{patient_num}.csv')\n",
    "    others['Review'] = others['Review'].str.strip()\n",
    "    others = others[others['Review'] == 'Yes']\n",
    "\n",
    "    sgb_times = pd.concat([labels[['Time']], others[['Time']]])\n",
    "    sgb_times['Time'] = pd.to_datetime(sgb_times['Time'])\n",
    "    sgb_times['sgb'] = True\n",
    "\n",
    "    # Then the raw data\n",
    "    readings = pd.read_csv(f'../data/Completed file set Oct13/{patient_num} RAW 00.csv')\n",
    "    readings['Time'] = pd.to_datetime(readings['Time'])\n",
    "    readings['CapturedTime'] = readings['Time'].dt.time\n",
    "\n",
    "    # Combine them to label the events times\n",
    "    readings = pd.merge(left = readings,\n",
    "             right = sgb_times[['Time', 'sgb']],\n",
    "            how = 'outer').fillna('False')\n",
    "    \n",
    "    # Then remove the meal times\n",
    "    events = pd.read_csv(f'../data/Completed file set Oct13/{patient_num} EVT 00.csv')\n",
    "    events = events[events['EventName'] == 'Meal']\n",
    "    events['Time'] = pd.to_datetime(events['Time'])\n",
    "    events['Duration'] = pd.to_timedelta(events['Duration'])\n",
    "    events = events.assign(End = events['Time'] + events['Duration'])\n",
    "    for idx, row in events.iterrows():\n",
    "        readings = readings[(readings['Time'] < row['Time']) | (readings['Time'] > row['End'])]\n",
    "        \n",
    "    # Normalize the readings to be between 0 and 1\n",
    "    for channel in [\n",
    "        'Channel_1', 'Channel_2', 'Channel_3',\n",
    "        'Channel_4', 'Channel_5', 'Channel_6'\n",
    "    ]:\n",
    "        readings[channel] = readings[channel] / 10000\n",
    "    \n",
    "    # There is a section for patient 008 at the end which is all maxed outs\n",
    "    if patient_num == '008':\n",
    "        readings = readings.loc[:837833]\n",
    "    \n",
    "    # There is a missing segment of time for 009, so we need to repair the index\n",
    "    if patient_num == '009':\n",
    "        readings.index = [x + 4 if x >= 276 else x for x in readings.index]\n",
    "        \n",
    "    # There is a section for patient 010 at the end which is all maxed outs\n",
    "    if patient_num == '010':\n",
    "        readings = readings.loc[:731110]\n",
    "    \n",
    "    return readings"
   ]
  },
  {
   "cell_type": "code",
   "execution_count": 47,
   "id": "universal-information",
   "metadata": {},
   "outputs": [],
   "source": [
    "def import_data_new(patient_num):\n",
    "\n",
    "    # First, get the labels\n",
    "    labels = pd.read_csv(f'../data/new_2024/centered/centered_{patient_num}.csv')\n",
    "\n",
    "    others = pd.read_csv(f'../data/new_2024/double_check/dc_{patient_num}.csv')\n",
    "    \n",
    "    sgb_times = pd.concat([labels[['Time']], others[['Time']]])\n",
    "    \n",
    "    additional_files = glob.glob(\"../data/new_2024/additional/*.csv\")\n",
    "    if f\"../data/new_2024/additional/fp_{patient_num}.csv\" in additional_files:\n",
    "        additional = pd.read_csv(f'../data/new_2024/additional/fp_{patient_num}.csv')\n",
    "        additional = additional[additional['keep'] == True]\n",
    "        additional = additional.rename(columns={'timestamp': 'Time'})\n",
    "        sgb_times = pd.concat([sgb_times[['Time']], additional[['Time']]])\n",
    "    \n",
    "    sgb_times['Time'] = pd.to_datetime(sgb_times['Time'])\n",
    "    sgb_times['sgb'] = True\n",
    "\n",
    "    # Then the raw data\n",
    "    readings = pd.read_csv(f'../data/new_data/eval_data/{patient_num} RAW 00.csv')\n",
    "    readings['Time'] = pd.to_datetime(readings['Time'])\n",
    "    readings['CapturedTime'] = readings['Time'].dt.time\n",
    "\n",
    "    # Combine them to label the events times\n",
    "    readings = pd.merge(left = readings,\n",
    "             right = sgb_times[['Time', 'sgb']],\n",
    "            how = 'outer').fillna('False')\n",
    "    \n",
    "    # Then remove the meal times\n",
    "    events = pd.read_csv(f'../data/new_data/eval_data/{patient_num} EVT 00.csv')\n",
    "    events = events[events['EventName'] == 'Meal']\n",
    "    events['Time'] = pd.to_datetime(events['Time'])\n",
    "    events['Duration'] = pd.to_timedelta(events['Duration'])\n",
    "    events = events.assign(End = events['Time'] + events['Duration'])\n",
    "    for idx, row in events.iterrows():\n",
    "        readings = readings[(readings['Time'] < row['Time']) | (readings['Time'] > row['End'])]\n",
    "        \n",
    "    # Normalize the readings to be between 0 and 1\n",
    "    for channel in [\n",
    "        'Channel_1', 'Channel_2', 'Channel_3',\n",
    "        'Channel_4', 'Channel_5', 'Channel_6'\n",
    "    ]:\n",
    "        readings[channel] = readings[channel] / 10000\n",
    "        \n",
    "    return readings"
   ]
  },
  {
   "cell_type": "code",
   "execution_count": 48,
   "id": "chief-greensboro",
   "metadata": {},
   "outputs": [],
   "source": [
    "def prepare_training(patient_num, new=False):\n",
    "    if not new:\n",
    "        readings = import_data(patient_num)\n",
    "    else:\n",
    "        readings = import_data_new(patient_num)\n",
    "        \n",
    "    readings.loc[readings['sgb'] == True, 'next_sgb'] = readings.loc[readings['sgb'] == True, 'Time']\n",
    "    readings['next_sgb'] = readings['next_sgb'].bfill()\n",
    "    readings.loc[readings['sgb'] == True, 'last_sgb'] = readings.loc[readings['sgb'] == True, 'Time']\n",
    "    readings['last_sgb'] = readings['last_sgb'].ffill()\n",
    "\n",
    "    readings['next_sgb'] = (readings['next_sgb'] - readings['Time']).dt.total_seconds()\n",
    "    readings['last_sgb'] = (readings['Time'] - readings['last_sgb']).dt.total_seconds()\n",
    "\n",
    "    potential_training_index = readings[~(readings['next_sgb'] < 2) & ~(readings['last_sgb'] < 2)].index\n",
    "\n",
    "    nonsgb = [x for x in potential_training_index if x%10 == 0]\n",
    "    sgb = readings[readings['sgb'] == True].index.tolist()\n",
    "    \n",
    "    keeps = 0\n",
    "    \n",
    "    for idx in tqdm(nonsgb):\n",
    "        offset = 0\n",
    "        duration = 20\n",
    "\n",
    "        idx = idx - offset\n",
    "\n",
    "        readings_sub = readings.loc[idx:idx + duration - 1][['Channel_' + str(j) for j in range(1,7)]].values\n",
    "        if readings_sub.shape == (duration, 6) and np.abs(np.diff(readings_sub, axis = 0)).sum() > 1:\n",
    "            X_train.append(readings_sub)\n",
    "            y_train.append(0)\n",
    "            train_indices.append(idx)\n",
    "            keeps += 1\n",
    "            \n",
    "    print(keeps)\n",
    "\n",
    "    for idx in tqdm(sgb * 10):\n",
    "        offset = 0\n",
    "        duration = 20\n",
    "\n",
    "        idx = idx - offset\n",
    "\n",
    "        readings_sub = readings.loc[idx:idx + duration - 1][['Channel_' + str(j) for j in range(1,7)]].values\n",
    "        if readings_sub.shape == (duration, 6):\n",
    "            X_train.append(readings_sub)\n",
    "            y_train.append(1)\n",
    "            train_indices.append(idx)"
   ]
  },
  {
   "cell_type": "code",
   "execution_count": 49,
   "id": "foreign-horizontal",
   "metadata": {},
   "outputs": [
    {
     "data": {
      "application/vnd.jupyter.widget-view+json": {
       "model_id": "5e54c44b8d3e4fd4b9c997c1442426a4",
       "version_major": 2,
       "version_minor": 0
      },
      "text/plain": [
       "  0%|          | 0/77053 [00:00<?, ?it/s]"
      ]
     },
     "metadata": {},
     "output_type": "display_data"
    },
    {
     "name": "stdout",
     "output_type": "stream",
     "text": [
      "10489\n"
     ]
    },
    {
     "data": {
      "application/vnd.jupyter.widget-view+json": {
       "model_id": "2099b7fddc5441a0be207b340ddff4d2",
       "version_major": 2,
       "version_minor": 0
      },
      "text/plain": [
       "0it [00:00, ?it/s]"
      ]
     },
     "metadata": {},
     "output_type": "display_data"
    },
    {
     "data": {
      "application/vnd.jupyter.widget-view+json": {
       "model_id": "d7da0b6f74ce4f7e814018cab2874c24",
       "version_major": 2,
       "version_minor": 0
      },
      "text/plain": [
       "  0%|          | 0/68301 [00:00<?, ?it/s]"
      ]
     },
     "metadata": {},
     "output_type": "display_data"
    },
    {
     "name": "stdout",
     "output_type": "stream",
     "text": [
      "8048\n"
     ]
    },
    {
     "data": {
      "application/vnd.jupyter.widget-view+json": {
       "model_id": "7561826d448c416091f64082d0ba8827",
       "version_major": 2,
       "version_minor": 0
      },
      "text/plain": [
       "  0%|          | 0/4030 [00:00<?, ?it/s]"
      ]
     },
     "metadata": {},
     "output_type": "display_data"
    },
    {
     "data": {
      "application/vnd.jupyter.widget-view+json": {
       "model_id": "2c525d5cc19748e4b9fd95e00a750f88",
       "version_major": 2,
       "version_minor": 0
      },
      "text/plain": [
       "  0%|          | 0/79790 [00:00<?, ?it/s]"
      ]
     },
     "metadata": {},
     "output_type": "display_data"
    },
    {
     "name": "stdout",
     "output_type": "stream",
     "text": [
      "2887\n"
     ]
    },
    {
     "data": {
      "application/vnd.jupyter.widget-view+json": {
       "model_id": "3161029aed5d46838956af6089921c3d",
       "version_major": 2,
       "version_minor": 0
      },
      "text/plain": [
       "  0%|          | 0/160 [00:00<?, ?it/s]"
      ]
     },
     "metadata": {},
     "output_type": "display_data"
    },
    {
     "data": {
      "application/vnd.jupyter.widget-view+json": {
       "model_id": "43360281360b4553a8285480a5fc6130",
       "version_major": 2,
       "version_minor": 0
      },
      "text/plain": [
       "  0%|          | 0/72927 [00:00<?, ?it/s]"
      ]
     },
     "metadata": {},
     "output_type": "display_data"
    },
    {
     "name": "stdout",
     "output_type": "stream",
     "text": [
      "1550\n"
     ]
    },
    {
     "data": {
      "application/vnd.jupyter.widget-view+json": {
       "model_id": "894551959919425388efd6ff36120a3e",
       "version_major": 2,
       "version_minor": 0
      },
      "text/plain": [
       "  0%|          | 0/290 [00:00<?, ?it/s]"
      ]
     },
     "metadata": {},
     "output_type": "display_data"
    },
    {
     "data": {
      "application/vnd.jupyter.widget-view+json": {
       "model_id": "2ed2ff7277d44790a6dc28f6bfa46876",
       "version_major": 2,
       "version_minor": 0
      },
      "text/plain": [
       "  0%|          | 0/74816 [00:00<?, ?it/s]"
      ]
     },
     "metadata": {},
     "output_type": "display_data"
    },
    {
     "name": "stdout",
     "output_type": "stream",
     "text": [
      "5200\n"
     ]
    },
    {
     "data": {
      "application/vnd.jupyter.widget-view+json": {
       "model_id": "7944d5bc85b7479f9994b2197d292aca",
       "version_major": 2,
       "version_minor": 0
      },
      "text/plain": [
       "  0%|          | 0/140 [00:00<?, ?it/s]"
      ]
     },
     "metadata": {},
     "output_type": "display_data"
    },
    {
     "data": {
      "application/vnd.jupyter.widget-view+json": {
       "model_id": "23c913856c754e91a38e800df1e5e66b",
       "version_major": 2,
       "version_minor": 0
      },
      "text/plain": [
       "  0%|          | 0/71162 [00:00<?, ?it/s]"
      ]
     },
     "metadata": {},
     "output_type": "display_data"
    },
    {
     "name": "stdout",
     "output_type": "stream",
     "text": [
      "2738\n"
     ]
    },
    {
     "data": {
      "application/vnd.jupyter.widget-view+json": {
       "model_id": "3e194f71d54144dbb0edbc236dd6f5ea",
       "version_major": 2,
       "version_minor": 0
      },
      "text/plain": [
       "  0%|          | 0/180 [00:00<?, ?it/s]"
      ]
     },
     "metadata": {},
     "output_type": "display_data"
    },
    {
     "data": {
      "application/vnd.jupyter.widget-view+json": {
       "model_id": "6b57a725bfb648ea9d495817f3b9e4b8",
       "version_major": 2,
       "version_minor": 0
      },
      "text/plain": [
       "  0%|          | 0/76775 [00:00<?, ?it/s]"
      ]
     },
     "metadata": {},
     "output_type": "display_data"
    },
    {
     "name": "stdout",
     "output_type": "stream",
     "text": [
      "2139\n"
     ]
    },
    {
     "data": {
      "application/vnd.jupyter.widget-view+json": {
       "model_id": "a8d226c306ab4510a572f04ffc2dc104",
       "version_major": 2,
       "version_minor": 0
      },
      "text/plain": [
       "  0%|          | 0/110 [00:00<?, ?it/s]"
      ]
     },
     "metadata": {},
     "output_type": "display_data"
    },
    {
     "data": {
      "application/vnd.jupyter.widget-view+json": {
       "model_id": "ffe854a134bd4250a12853a6dfd55741",
       "version_major": 2,
       "version_minor": 0
      },
      "text/plain": [
       "  0%|          | 0/78569 [00:00<?, ?it/s]"
      ]
     },
     "metadata": {},
     "output_type": "display_data"
    },
    {
     "name": "stdout",
     "output_type": "stream",
     "text": [
      "9529\n"
     ]
    },
    {
     "data": {
      "application/vnd.jupyter.widget-view+json": {
       "model_id": "5df968374bcb47cd90144cc95b6034df",
       "version_major": 2,
       "version_minor": 0
      },
      "text/plain": [
       "  0%|          | 0/90 [00:00<?, ?it/s]"
      ]
     },
     "metadata": {},
     "output_type": "display_data"
    },
    {
     "data": {
      "application/vnd.jupyter.widget-view+json": {
       "model_id": "7d9bd45d06444bea93de0939d3b9e222",
       "version_major": 2,
       "version_minor": 0
      },
      "text/plain": [
       "  0%|          | 0/76244 [00:00<?, ?it/s]"
      ]
     },
     "metadata": {},
     "output_type": "display_data"
    },
    {
     "name": "stdout",
     "output_type": "stream",
     "text": [
      "6390\n"
     ]
    },
    {
     "data": {
      "application/vnd.jupyter.widget-view+json": {
       "model_id": "2a57eb394850479ab32746d64a0d24ae",
       "version_major": 2,
       "version_minor": 0
      },
      "text/plain": [
       "  0%|          | 0/500 [00:00<?, ?it/s]"
      ]
     },
     "metadata": {},
     "output_type": "display_data"
    },
    {
     "data": {
      "application/vnd.jupyter.widget-view+json": {
       "model_id": "30da8f469d1d49c4aeeda79a4df7ccc6",
       "version_major": 2,
       "version_minor": 0
      },
      "text/plain": [
       "  0%|          | 0/66589 [00:00<?, ?it/s]"
      ]
     },
     "metadata": {},
     "output_type": "display_data"
    },
    {
     "name": "stdout",
     "output_type": "stream",
     "text": [
      "7734\n"
     ]
    },
    {
     "data": {
      "application/vnd.jupyter.widget-view+json": {
       "model_id": "32ba894506b74b9498b0de9b9345ff33",
       "version_major": 2,
       "version_minor": 0
      },
      "text/plain": [
       "  0%|          | 0/1290 [00:00<?, ?it/s]"
      ]
     },
     "metadata": {},
     "output_type": "display_data"
    },
    {
     "data": {
      "application/vnd.jupyter.widget-view+json": {
       "model_id": "348904050ed642df8c1f6011afa470cb",
       "version_major": 2,
       "version_minor": 0
      },
      "text/plain": [
       "  0%|          | 0/78031 [00:00<?, ?it/s]"
      ]
     },
     "metadata": {},
     "output_type": "display_data"
    },
    {
     "name": "stdout",
     "output_type": "stream",
     "text": [
      "6417\n"
     ]
    },
    {
     "data": {
      "application/vnd.jupyter.widget-view+json": {
       "model_id": "628c6f4f253a40a8a6ed8b9431dd5961",
       "version_major": 2,
       "version_minor": 0
      },
      "text/plain": [
       "  0%|          | 0/80 [00:00<?, ?it/s]"
      ]
     },
     "metadata": {},
     "output_type": "display_data"
    },
    {
     "data": {
      "application/vnd.jupyter.widget-view+json": {
       "model_id": "6ba2bc97322644f7a7c77aefa49e4f37",
       "version_major": 2,
       "version_minor": 0
      },
      "text/plain": [
       "  0%|          | 0/78105 [00:00<?, ?it/s]"
      ]
     },
     "metadata": {},
     "output_type": "display_data"
    },
    {
     "name": "stdout",
     "output_type": "stream",
     "text": [
      "6531\n"
     ]
    },
    {
     "data": {
      "application/vnd.jupyter.widget-view+json": {
       "model_id": "f7c7d324a2214e939fa3c5b3bbd8b391",
       "version_major": 2,
       "version_minor": 0
      },
      "text/plain": [
       "  0%|          | 0/190 [00:00<?, ?it/s]"
      ]
     },
     "metadata": {},
     "output_type": "display_data"
    },
    {
     "data": {
      "application/vnd.jupyter.widget-view+json": {
       "model_id": "8021d345f4174dada85e63f47527f6b2",
       "version_major": 2,
       "version_minor": 0
      },
      "text/plain": [
       "  0%|          | 0/73879 [00:00<?, ?it/s]"
      ]
     },
     "metadata": {},
     "output_type": "display_data"
    },
    {
     "name": "stdout",
     "output_type": "stream",
     "text": [
      "9328\n"
     ]
    },
    {
     "data": {
      "application/vnd.jupyter.widget-view+json": {
       "model_id": "76735c9d951d4e41aaf5f5554bd0aae4",
       "version_major": 2,
       "version_minor": 0
      },
      "text/plain": [
       "  0%|          | 0/1400 [00:00<?, ?it/s]"
      ]
     },
     "metadata": {},
     "output_type": "display_data"
    },
    {
     "data": {
      "application/vnd.jupyter.widget-view+json": {
       "model_id": "6b9a43e943994967b62eecb33ffd3d9a",
       "version_major": 2,
       "version_minor": 0
      },
      "text/plain": [
       "  0%|          | 0/79128 [00:00<?, ?it/s]"
      ]
     },
     "metadata": {},
     "output_type": "display_data"
    },
    {
     "name": "stdout",
     "output_type": "stream",
     "text": [
      "20084\n"
     ]
    },
    {
     "data": {
      "application/vnd.jupyter.widget-view+json": {
       "model_id": "2d00505cd7e84baeba0353e1457695c3",
       "version_major": 2,
       "version_minor": 0
      },
      "text/plain": [
       "  0%|          | 0/1440 [00:00<?, ?it/s]"
      ]
     },
     "metadata": {},
     "output_type": "display_data"
    },
    {
     "data": {
      "application/vnd.jupyter.widget-view+json": {
       "model_id": "f63478411c764154b7ba20b6abd2e0a7",
       "version_major": 2,
       "version_minor": 0
      },
      "text/plain": [
       "  0%|          | 0/91381 [00:00<?, ?it/s]"
      ]
     },
     "metadata": {},
     "output_type": "display_data"
    },
    {
     "name": "stdout",
     "output_type": "stream",
     "text": [
      "14322\n"
     ]
    },
    {
     "data": {
      "application/vnd.jupyter.widget-view+json": {
       "model_id": "d93d87144b9b4d2da66fd19044ebaea0",
       "version_major": 2,
       "version_minor": 0
      },
      "text/plain": [
       "  0%|          | 0/10 [00:00<?, ?it/s]"
      ]
     },
     "metadata": {},
     "output_type": "display_data"
    },
    {
     "data": {
      "application/vnd.jupyter.widget-view+json": {
       "model_id": "9fd0d044af704a4893c8214a7c4cfbd6",
       "version_major": 2,
       "version_minor": 0
      },
      "text/plain": [
       "  0%|          | 0/90310 [00:00<?, ?it/s]"
      ]
     },
     "metadata": {},
     "output_type": "display_data"
    },
    {
     "name": "stdout",
     "output_type": "stream",
     "text": [
      "14883\n"
     ]
    },
    {
     "data": {
      "application/vnd.jupyter.widget-view+json": {
       "model_id": "7b2942925fb2449699054c6c4d0d0f34",
       "version_major": 2,
       "version_minor": 0
      },
      "text/plain": [
       "  0%|          | 0/30 [00:00<?, ?it/s]"
      ]
     },
     "metadata": {},
     "output_type": "display_data"
    },
    {
     "data": {
      "application/vnd.jupyter.widget-view+json": {
       "model_id": "7ef99041c8ee4c97ae28ed06e6f52b45",
       "version_major": 2,
       "version_minor": 0
      },
      "text/plain": [
       "  0%|          | 0/73847 [00:00<?, ?it/s]"
      ]
     },
     "metadata": {},
     "output_type": "display_data"
    },
    {
     "name": "stdout",
     "output_type": "stream",
     "text": [
      "7716\n"
     ]
    },
    {
     "data": {
      "application/vnd.jupyter.widget-view+json": {
       "model_id": "4960970e38744df7a0e8d11909bba0df",
       "version_major": 2,
       "version_minor": 0
      },
      "text/plain": [
       "  0%|          | 0/440 [00:00<?, ?it/s]"
      ]
     },
     "metadata": {},
     "output_type": "display_data"
    },
    {
     "data": {
      "application/vnd.jupyter.widget-view+json": {
       "model_id": "e2adf5dc79d040f4925a76247a8d5800",
       "version_major": 2,
       "version_minor": 0
      },
      "text/plain": [
       "  0%|          | 0/81132 [00:00<?, ?it/s]"
      ]
     },
     "metadata": {},
     "output_type": "display_data"
    },
    {
     "name": "stdout",
     "output_type": "stream",
     "text": [
      "1645\n"
     ]
    },
    {
     "data": {
      "application/vnd.jupyter.widget-view+json": {
       "model_id": "fdd229ef6dde426a9118424764e04e9e",
       "version_major": 2,
       "version_minor": 0
      },
      "text/plain": [
       "0it [00:00, ?it/s]"
      ]
     },
     "metadata": {},
     "output_type": "display_data"
    },
    {
     "data": {
      "application/vnd.jupyter.widget-view+json": {
       "model_id": "ffedfbb8b2ee4ed2a339e749f91c3dd1",
       "version_major": 2,
       "version_minor": 0
      },
      "text/plain": [
       "  0%|          | 0/82881 [00:00<?, ?it/s]"
      ]
     },
     "metadata": {},
     "output_type": "display_data"
    },
    {
     "name": "stdout",
     "output_type": "stream",
     "text": [
      "17670\n"
     ]
    },
    {
     "data": {
      "application/vnd.jupyter.widget-view+json": {
       "model_id": "687449cd14734e5bbb988538309e0d40",
       "version_major": 2,
       "version_minor": 0
      },
      "text/plain": [
       "  0%|          | 0/480 [00:00<?, ?it/s]"
      ]
     },
     "metadata": {},
     "output_type": "display_data"
    },
    {
     "data": {
      "application/vnd.jupyter.widget-view+json": {
       "model_id": "40766ce84bae44998e867551cc2686a3",
       "version_major": 2,
       "version_minor": 0
      },
      "text/plain": [
       "  0%|          | 0/73682 [00:00<?, ?it/s]"
      ]
     },
     "metadata": {},
     "output_type": "display_data"
    },
    {
     "name": "stdout",
     "output_type": "stream",
     "text": [
      "3750\n"
     ]
    },
    {
     "data": {
      "application/vnd.jupyter.widget-view+json": {
       "model_id": "f4bfb1949b1d4a059253ef9249042678",
       "version_major": 2,
       "version_minor": 0
      },
      "text/plain": [
       "  0%|          | 0/320 [00:00<?, ?it/s]"
      ]
     },
     "metadata": {},
     "output_type": "display_data"
    },
    {
     "data": {
      "application/vnd.jupyter.widget-view+json": {
       "model_id": "2a9ac262683e4b8195927b2c8d7b29a8",
       "version_major": 2,
       "version_minor": 0
      },
      "text/plain": [
       "  0%|          | 0/83021 [00:00<?, ?it/s]"
      ]
     },
     "metadata": {},
     "output_type": "display_data"
    },
    {
     "name": "stdout",
     "output_type": "stream",
     "text": [
      "16939\n"
     ]
    },
    {
     "data": {
      "application/vnd.jupyter.widget-view+json": {
       "model_id": "887bcab84a9a4f1089b5caddad078fc9",
       "version_major": 2,
       "version_minor": 0
      },
      "text/plain": [
       "  0%|          | 0/60 [00:00<?, ?it/s]"
      ]
     },
     "metadata": {},
     "output_type": "display_data"
    },
    {
     "data": {
      "application/vnd.jupyter.widget-view+json": {
       "model_id": "cb2bd6c2c8cc42fb9e92ad34f0a51649",
       "version_major": 2,
       "version_minor": 0
      },
      "text/plain": [
       "  0%|          | 0/84069 [00:00<?, ?it/s]"
      ]
     },
     "metadata": {},
     "output_type": "display_data"
    },
    {
     "name": "stdout",
     "output_type": "stream",
     "text": [
      "28264\n"
     ]
    },
    {
     "data": {
      "application/vnd.jupyter.widget-view+json": {
       "model_id": "0e138b847b234b2992fbba625929aec4",
       "version_major": 2,
       "version_minor": 0
      },
      "text/plain": [
       "  0%|          | 0/370 [00:00<?, ?it/s]"
      ]
     },
     "metadata": {},
     "output_type": "display_data"
    },
    {
     "data": {
      "application/vnd.jupyter.widget-view+json": {
       "model_id": "373cf887565e4e1787777cb00efe81e7",
       "version_major": 2,
       "version_minor": 0
      },
      "text/plain": [
       "  0%|          | 0/73387 [00:00<?, ?it/s]"
      ]
     },
     "metadata": {},
     "output_type": "display_data"
    },
    {
     "name": "stdout",
     "output_type": "stream",
     "text": [
      "11587\n"
     ]
    },
    {
     "data": {
      "application/vnd.jupyter.widget-view+json": {
       "model_id": "fe15009c7eea49e4aec514a9153f1290",
       "version_major": 2,
       "version_minor": 0
      },
      "text/plain": [
       "  0%|          | 0/290 [00:00<?, ?it/s]"
      ]
     },
     "metadata": {},
     "output_type": "display_data"
    }
   ],
   "source": [
    "X_train = []\n",
    "y_train = []\n",
    "train_indices = []\n",
    "\n",
    "for patient_num, sampling_strategy in [\n",
    "    ('001', 1/10),\n",
    "    ('002', 1/50),\n",
    "    ('003', 1/10),\n",
    "    ('004', 1/10),\n",
    "    ('005', 1/10),\n",
    "    ('006', 1/10),\n",
    "    ('007', 1/10),\n",
    "    ('008', 1/10),\n",
    "    ('009', 1/10),\n",
    "    ('010', 1/50),\n",
    "    ('011', 1/10),\n",
    "    ('012', 1/10),\n",
    "    ('013', 1/10),\n",
    "]:\n",
    "    prepare_training(patient_num)\n",
    "    \n",
    "for patient_num in [\n",
    "    '02', '15', '16', '18', '34',\n",
    "    '40', '42', '55', '58', '68', \n",
    "    #'69', '75', '89', '90', '93'\n",
    "]:\n",
    "    prepare_training(patient_num, new=True)"
   ]
  },
  {
   "cell_type": "code",
   "execution_count": 50,
   "id": "european-python",
   "metadata": {},
   "outputs": [
    {
     "name": "stdout",
     "output_type": "stream",
     "text": [
      "WARNING:tensorflow:From /home/michael/anaconda3/envs/keras/lib/python3.7/site-packages/tensorflow/python/ops/init_ops.py:1251: calling VarianceScaling.__init__ (from tensorflow.python.ops.init_ops) with dtype is deprecated and will be removed in a future version.\n",
      "Instructions for updating:\n",
      "Call initializer instance with the dtype argument instead of passing it to the constructor\n",
      "WARNING:tensorflow:From /home/michael/anaconda3/envs/keras/lib/python3.7/site-packages/tensorflow/python/ops/nn_impl.py:180: add_dispatch_support.<locals>.wrapper (from tensorflow.python.ops.array_ops) is deprecated and will be removed in a future version.\n",
      "Instructions for updating:\n",
      "Use tf.where in 2.0, which has the same broadcast rule as np.where\n"
     ]
    }
   ],
   "source": [
    "model = models.Sequential()\n",
    "model.add(\n",
    "    layers.Conv2D(\n",
    "        16, \n",
    "        (3, 6), \n",
    "        activation='relu', \n",
    "        input_shape=(20,6,1), \n",
    "        padding = 'same',\n",
    "        data_format='channels_last'\n",
    "    )\n",
    ")\n",
    "\n",
    "### This next layer wasn't in there before\n",
    "model.add(layers.MaxPooling2D(pool_size = (2,1)))\n",
    "model.add(layers.Conv2D(16, (3,6), activation='relu', padding = 'same'))\n",
    "model.add(layers.MaxPooling2D(pool_size = (2,1)))\n",
    "model.add(layers.Conv2D(16, (3,6), activation='relu', padding = 'same'))\n",
    "model.add(layers.MaxPooling2D(pool_size = (2,1)))\n",
    "model.add(layers.Flatten())\n",
    "model.add(layers.Dense(16, activation='relu'))\n",
    "model.add(layers.Dense(16, activation='relu'))\n",
    "model.add(layers.Dense(1, activation = 'sigmoid'))\n",
    "\n",
    "model.compile(\n",
    "    loss='binary_crossentropy',\n",
    "    optimizer='adam',\n",
    "    metrics=['accuracy'],\n",
    ")"
   ]
  },
  {
   "cell_type": "code",
   "execution_count": 51,
   "id": "perceived-trance",
   "metadata": {},
   "outputs": [
    {
     "name": "stdout",
     "output_type": "stream",
     "text": [
      "Epoch 1/30\n",
      "227740/227740 [==============================] - 30s 132us/sample - loss: 0.0247 - acc: 0.9928\n",
      "Epoch 2/30\n",
      "227740/227740 [==============================] - 30s 130us/sample - loss: 0.0149 - acc: 0.9953\n",
      "Epoch 3/30\n",
      "227740/227740 [==============================] - 30s 134us/sample - loss: 0.0120 - acc: 0.9962\n",
      "Epoch 4/30\n",
      "227740/227740 [==============================] - 32s 142us/sample - loss: 0.0099 - acc: 0.9969\n",
      "Epoch 5/30\n",
      "227740/227740 [==============================] - 33s 145us/sample - loss: 0.0085 - acc: 0.9973\n",
      "Epoch 6/30\n",
      "227740/227740 [==============================] - 31s 137us/sample - loss: 0.0078 - acc: 0.9976\n",
      "Epoch 7/30\n",
      "227740/227740 [==============================] - 31s 135us/sample - loss: 0.0068 - acc: 0.9979\n",
      "Epoch 8/30\n",
      "227740/227740 [==============================] - 31s 136us/sample - loss: 0.0063 - acc: 0.9980\n",
      "Epoch 9/30\n",
      "227740/227740 [==============================] - 31s 136us/sample - loss: 0.0057 - acc: 0.9983\n",
      "Epoch 10/30\n",
      "227740/227740 [==============================] - 31s 135us/sample - loss: 0.0051 - acc: 0.9984\n",
      "Epoch 11/30\n",
      "227740/227740 [==============================] - 31s 136us/sample - loss: 0.0047 - acc: 0.9986\n",
      "Epoch 12/30\n",
      "227740/227740 [==============================] - 32s 142us/sample - loss: 0.0046 - acc: 0.9986\n",
      "Epoch 13/30\n",
      "227740/227740 [==============================] - 32s 142us/sample - loss: 0.0042 - acc: 0.9988\n",
      "Epoch 14/30\n",
      "227740/227740 [==============================] - 31s 138us/sample - loss: 0.0039 - acc: 0.9989\n",
      "Epoch 15/30\n",
      "227740/227740 [==============================] - 33s 143us/sample - loss: 0.0036 - acc: 0.9990\n",
      "Epoch 16/30\n",
      "227740/227740 [==============================] - 32s 141us/sample - loss: 0.0041 - acc: 0.9989\n",
      "Epoch 17/30\n",
      "227740/227740 [==============================] - 32s 142us/sample - loss: 0.0036 - acc: 0.9990\n",
      "Epoch 18/30\n",
      "227740/227740 [==============================] - 32s 142us/sample - loss: 0.0032 - acc: 0.9991\n",
      "Epoch 19/30\n",
      "227740/227740 [==============================] - 32s 142us/sample - loss: 0.0031 - acc: 0.9991\n",
      "Epoch 20/30\n",
      "227740/227740 [==============================] - 33s 143us/sample - loss: 0.0026 - acc: 0.9993\n",
      "Epoch 21/30\n",
      "227740/227740 [==============================] - 33s 143us/sample - loss: 0.0026 - acc: 0.9993\n",
      "Epoch 22/30\n",
      "227740/227740 [==============================] - 33s 143us/sample - loss: 0.0022 - acc: 0.9994\n",
      "Epoch 23/30\n",
      "227740/227740 [==============================] - 33s 145us/sample - loss: 0.0023 - acc: 0.9993\n",
      "Epoch 24/30\n",
      "227740/227740 [==============================] - 31s 137us/sample - loss: 0.0024 - acc: 0.9993\n",
      "Epoch 25/30\n",
      "227740/227740 [==============================] - 34s 149us/sample - loss: 0.0020 - acc: 0.9995\n",
      "Epoch 26/30\n",
      "227740/227740 [==============================] - 34s 148us/sample - loss: 0.0022 - acc: 0.9994\n",
      "Epoch 27/30\n",
      "227740/227740 [==============================] - 33s 145us/sample - loss: 0.0017 - acc: 0.9995\n",
      "Epoch 28/30\n",
      "227740/227740 [==============================] - 35s 152us/sample - loss: 0.0019 - acc: 0.9994\n",
      "Epoch 29/30\n",
      "227740/227740 [==============================] - 36s 158us/sample - loss: 0.0015 - acc: 0.9996\n",
      "Epoch 30/30\n",
      "227740/227740 [==============================] - 37s 162us/sample - loss: 0.0021 - acc: 0.9994\n"
     ]
    }
   ],
   "source": [
    "history = model.fit(\n",
    "    np.array(X_train).reshape(\n",
    "        len(X_train), \n",
    "        X_train[0].shape[0], \n",
    "        6, \n",
    "        1), \n",
    "    np.array(y_train),\n",
    "    epochs=30\n",
    ")"
   ]
  },
  {
   "cell_type": "code",
   "execution_count": 52,
   "id": "signed-alfred",
   "metadata": {},
   "outputs": [],
   "source": [
    "model.save('../models/2024_12_01_model_01')"
   ]
  }
 ],
 "metadata": {
  "kernelspec": {
   "display_name": "Python 3",
   "language": "python",
   "name": "python3"
  },
  "language_info": {
   "codemirror_mode": {
    "name": "ipython",
    "version": 3
   },
   "file_extension": ".py",
   "mimetype": "text/x-python",
   "name": "python",
   "nbconvert_exporter": "python",
   "pygments_lexer": "ipython3",
   "version": "3.7.9"
  }
 },
 "nbformat": 4,
 "nbformat_minor": 5
}
